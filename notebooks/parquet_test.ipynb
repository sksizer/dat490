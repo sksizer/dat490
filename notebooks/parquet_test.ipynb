{
 "cells": [
  {
   "cell_type": "code",
   "execution_count": null,
   "id": "0",
   "metadata": {},
   "outputs": [],
   "source": [
    "import pandas as pd\n",
    "\n",
    "# Step 1: Load the Parquet file\n",
    "df = pd.read_parquet('../data/LLCP2023_desc.parquet', engine='pyarrow')\n",
    "desc_cols = [col for col in df.columns if col.endswith('_DESC')]\n",
    "print(df[desc_cols].dtypes)\n",
    "print(df.memory_usage(deep=True).sum() / 1e6, \"MB\")\n",
    "\n",
    "df_categorized = pd.read_parquet('../data/LLCP2023_desc_categorized.parquet', engine='pyarrow')\n",
    "print(df_categorized[desc_cols].dtypes)\n",
    "print(df_categorized.memory_usage(deep=True).sum() / 1e6, \"MB\")\n",
    "# # Step 2: Find columns ending with '_DESC' and convert to 'category'\n",
    "# desc_cols = [col for col in df.columns if col.endswith('_DESC')]\n",
    "# df[desc_cols] = df[desc_cols].astype('category')\n",
    "#\n",
    "# # Step 3: Save modified DataFrame to a new Parquet file\n",
    "# df.to_parquet('../data/LLCP2023_desc_categorized.parquet', engine='pyarrow', index=False)"
   ]
  }
 ],
 "metadata": {
  "kernelspec": {
   "display_name": "Python 3",
   "language": "python",
   "name": "python3"
  },
  "language_info": {
   "codemirror_mode": {
    "name": "ipython",
    "version": 2
   },
   "file_extension": ".py",
   "mimetype": "text/x-python",
   "name": "python",
   "nbconvert_exporter": "python",
   "pygments_lexer": "ipython2",
   "version": "2.7.6"
  }
 },
 "nbformat": 4,
 "nbformat_minor": 5
}
