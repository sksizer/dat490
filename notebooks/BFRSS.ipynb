{
 "cells": [
  {
   "cell_type": "code",
   "execution_count": null,
   "metadata": {
    "colab": {
     "base_uri": "https://localhost:8080/"
    },
    "id": "xtt9tXSxGjPU",
    "outputId": "9372b8d9-5238-406e-be6d-7dbbed8d7d12"
   },
   "outputs": [],
   "source": [
    "import os\n",
    "import sys\n",
    "import subprocess\n",
    "\n",
    "def is_colab():\n",
    "    return 'google.colab' in str(get_ipython())\n",
    "\n",
    "# Setup for Google Colab environment only\n",
    "if is_colab():\n",
    "    GIT_REPO_URL = 'https://github.com/sksizer/dat490.git'\n",
    "    LOCAL_DIR = '/content/code/dat490'\n",
    "\n",
    "    if not os.path.exists(LOCAL_DIR):\n",
    "        print(f\"Cloning repo into {LOCAL_DIR}...\")\n",
    "        subprocess.run(['git', 'clone', GIT_REPO_URL, LOCAL_DIR], check=True)\n",
    "    else:\n",
    "        print(f\"Repo already exists at {LOCAL_DIR}, pulling latest changes...\")\n",
    "        subprocess.run(['git', '-C', LOCAL_DIR, 'pull'], check=True)\n",
    "\n",
    "    if LOCAL_DIR not in sys.path:\n",
    "        sys.path.insert(0, LOCAL_DIR)\n",
    "        print(f\"Added {LOCAL_DIR} to sys.path\")\n",
    "\n",
    "    # Import dat490 package\n",
    "    import dat490\n",
    "else:\n",
    "    # Running locally - assume dat490 is already available\n",
    "    import dat490"
   ]
  },
  {
   "cell_type": "markdown",
   "metadata": {
    "id": "7gcIaBDZpH8O"
   },
   "source": [
    "# Load Data and Metadata\n",
    "- The new BFRSS wrapper provides a single interface to access both data and metadata\n",
    "- It automatically handles file paths, lazy loading, and metadata parsing\n",
    "- Uses the LLCP2023_desc_categorized.parquet file which contains both raw codes and _DESC columns\n",
    "- The metadata generation can optionally exclude _DESC columns to avoid duplication with value_ranges information"
   ]
  },
  {
   "cell_type": "code",
   "metadata": {
    "colab": {
     "base_uri": "https://localhost:8080/"
    },
    "id": "eckrUOR1ilCW",
    "outputId": "918049f4-4dd1-44ba-a19c-2dfdcc9d21f5"
   },
   "outputs": [],
   "source": [
    "# Load BFRSS data and metadata using the new wrapper\n",
    "import pandas as pd\n",
    "import logging\n",
    "from dat490 import load_bfrss\n",
    "\n",
    "# Configure logging for the notebook - clean format with just time and message\n",
    "logging.basicConfig(\n",
    "    level=logging.INFO,\n",
    "    format='%(asctime)s - %(levelname)s - %(message)s',\n",
    "    datefmt='%H:%M:%S',\n",
    "    handlers=[\n",
    "        logging.StreamHandler()  # Output to notebook cells\n",
    "    ]\n",
    ")\n",
    "\n",
    "# Get logger for this notebook\n",
    "logger = logging.getLogger(__name__)\n",
    "\n",
    "# Single function call to load everything\n",
    "# By default, this loads the _DESC columns in the DataFrame\n",
    "# but excludes them from metadata generation to avoid duplication\n",
    "\n",
    "# Set root directory based on environment\n",
    "if is_colab():\n",
    "    root_directory = '/content/code/dat490'\n",
    "else:\n",
    "    root_directory = None  # Use default search paths\n",
    "\n",
    "logger.info(\"Initializing BFRSS data loader...\")\n",
    "bfrss = load_bfrss(exclude_desc_columns=True, root_dir=root_directory)\n",
    "\n",
    "# Get a copy of the raw DataFrame (includes _DESC columns)\n",
    "bfrss_raw_df = bfrss.cloneDF()\n",
    "logger.info(f\"DataFrame shape: {bfrss_raw_df.shape}\")\n",
    "logger.info(f\"_DESC columns: {len([col for col in bfrss_raw_df.columns if col.endswith('_DESC')])}\")\n",
    "bfrss_raw_df.info()"
   ]
  },
  {
   "cell_type": "code",
   "execution_count": null,
   "metadata": {},
   "outputs": [],
   "source": [
    "# Note about _DESC columns\n",
    "# The LLCP2023_desc_categorized.parquet file contains both raw numeric codes AND _DESC columns\n",
    "# The _DESC columns have the human-readable categorized versions of the data\n",
    "# These are particularly useful for analysis and visualization\n",
    "\n",
    "# List all _DESC columns\n",
    "desc_columns = [col for col in bfrss_raw_df.columns if col.endswith('_DESC')]\n",
    "print(f\"Total _DESC columns in DataFrame: {len(desc_columns)}\")\n",
    "print(f\"First 10 _DESC columns: {desc_columns[:10]}\")\n",
    "\n",
    "# Example: Compare raw vs _DESC for a specific column\n",
    "if '_AGEG5YR' in bfrss_raw_df.columns and '_AGEG5YR_DESC' in bfrss_raw_df.columns:\n",
    "    print(\"\\nExample: Age group comparison\")\n",
    "    comparison = bfrss_raw_df[['_AGEG5YR', '_AGEG5YR_DESC']].value_counts().head(10)\n",
    "    print(comparison)"
   ]
  },
  {
   "cell_type": "code",
   "execution_count": null,
   "metadata": {
    "id": "xYWEooJMAwr6"
   },
   "outputs": [],
   "source": [
    "# Get the metadata dictionary from BFRSS wrapper\n",
    "logger.info(\"Loading metadata from BFRSS wrapper...\")\n",
    "bfrss_metadata = bfrss.cloneMetadata()\n",
    "\n",
    "# The metadata is already parsed and ready to use\n",
    "logger.info(f\"Total metadata entries: {len(bfrss_metadata)}\")\n",
    "print(f\"Total metadata entries: {len(bfrss_metadata)}\")"
   ]
  },
  {
   "cell_type": "code",
   "execution_count": null,
   "metadata": {
    "colab": {
     "base_uri": "https://localhost:8080/"
    },
    "id": "PTKxZUFcNlao",
    "outputId": "01b877d6-0d86-42f2-be7b-b080ab7bd6eb"
   },
   "outputs": [],
   "source": [
    "# Display the number of columns parsed\n",
    "print(f\"Parsed {len(bfrss_metadata)} column definitions from the codebook\")\n",
    "\n",
    "# Show a sample of the metadata\n",
    "sample_keys = list(bfrss_metadata.keys())[:5]\n",
    "for key in sample_keys:\n",
    "    metadata = bfrss_metadata[key]\n",
    "    print(f\"\\n{key}:\")\n",
    "    print(f\"  Label: {metadata.label}\")\n",
    "    print(f\"  Question: {metadata.question}\")\n",
    "    print(f\"  Column: {metadata.column}\")\n",
    "    print(f\"  Type: {metadata.type_of_variable}\")\n",
    "    print(f\"  Computed: {metadata.computed}\")\n",
    "    print(f\"  Section Name: {metadata.section_name}\")\n",
    "    print(f\"  Section Number: {metadata.section_number}\")\n",
    "    print(f\"  Question Number: {metadata.question_number}\")"
   ]
  },
  {
   "cell_type": "code",
   "execution_count": null,
   "metadata": {},
   "outputs": [],
   "source": [
    "# Demonstrate BFRSS wrapper utility methods\n",
    "\n",
    "# 1. Direct value lookup\n",
    "state_1_desc = bfrss.lookup_value('_STATE', 1)\n",
    "print(f\"State code 1 = {state_1_desc}\")\n",
    "\n",
    "# 2. Get all sections\n",
    "sections = bfrss.get_sections()\n",
    "print(f\"\\nTotal sections: {len(sections)}\")\n",
    "print(\"First 5 sections:\", sections[:5])\n",
    "\n",
    "# 3. Get columns by section\n",
    "calc_columns = bfrss.get_columns_by_section('Calculated Variables')\n",
    "print(f\"\\nCalculated Variables section has {len(calc_columns)} columns\")\n",
    "print(\"First 5:\", calc_columns[:5])\n",
    "\n",
    "# 4. Search for columns\n",
    "diabetes_columns = bfrss.search_columns('diabetes')\n",
    "print(f\"\\nColumns mentioning 'diabetes': {len(diabetes_columns)}\")\n",
    "for col in diabetes_columns[:3]:\n",
    "    meta = bfrss.get_column_info(col)\n",
    "    print(f\"  {col}: {meta.label}\")"
   ]
  },
  {
   "cell_type": "markdown",
   "metadata": {
    "id": "XgwFJt3YNBjQ"
   },
   "source": [
    "# Metadata Documentation\n",
    "Notes and examples of the metadata extraction:\n",
    "\n"
   ]
  },
  {
   "cell_type": "code",
   "execution_count": null,
   "metadata": {
    "colab": {
     "base_uri": "https://localhost:8080/"
    },
    "id": "IGcHPEctN3yb",
    "outputId": "d5a67d6f-84f3-45e6-e5de-c86c531a45c4"
   },
   "outputs": [],
   "source": [
    "print(f\"Total columns in dataframe: {len(bfrss_raw_df.columns)}\")\n",
    "print(f\"Total metadata parsed: {len(bfrss_metadata)}\")\n",
    "print(f\"Coverage: {len(bfrss_metadata) / len(bfrss_raw_df.columns) * 100:.1f}%\")\n",
    "\n",
    "# Check which columns don't have metadata\n",
    "missing_metadata = [col for col in bfrss_raw_df.columns if col not in bfrss_metadata]\n",
    "print(f\"\\nColumns without metadata: {len(missing_metadata)}\")\n",
    "if missing_metadata:\n",
    "    print(\"First 10 missing:\", missing_metadata[:10])\n",
    "print(\"Note: There is data for these columns but no metadata is available, likely purged bc of policy changes.\")"
   ]
  },
  {
   "cell_type": "code",
   "execution_count": null,
   "metadata": {},
   "outputs": [],
   "source": [
    "# Simple example: Get all column names for 'Calculated Variables' section using wrapper\n",
    "calculated_columns = bfrss.get_columns_by_section('Calculated Variables')\n",
    "\n",
    "print(f\"Columns in 'Calculated Variables' section: {len(calculated_columns)}\")\n",
    "print(f\"\\nColumn names: {calculated_columns}\")"
   ]
  },
  {
   "cell_type": "markdown",
   "metadata": {},
   "source": []
  },
  {
   "cell_type": "markdown",
   "metadata": {},
   "source": [
    "Jaime - RQ3"
   ]
  },
  {
   "cell_type": "code",
   "execution_count": null,
   "metadata": {},
   "outputs": [],
   "source": [
    "#Arthritis EDA\n",
    "\n",
    "# Arthritis calculated variable info\n",
    "arthritis_metadata = bfrss_metadata['_DRDXAR2']\n",
    "print(f\"Column: {arthritis_metadata.sas_variable_name}\")\n",
    "print(f\"Label: {arthritis_metadata.label}\")\n",
    "print(f\"Question: {arthritis_metadata.question}\")\n",
    "print(f\"\\nValue mappings:\")\n",
    "# Show arthritis mappings\n",
    "for i, (value, description) in enumerate(arthritis_metadata.value_lookup.items()):\n",
    "    if i < 10:\n",
    "        print(f\"  {value}: {description}\")\n",
    "\n",
    "#Arthritis value counts\n",
    "sample_values = bfrss_raw_df['_DRDXAR2'].value_counts().head(10)\n",
    "print(\"\\nArthritis category counts:\")\n",
    "\n",
    "for value, count in sample_values.items():\n",
    "    # Get the description from value_lookup\n",
    "    description = arthritis_metadata.value_lookup.get(int(value) if not pd.isna(value) else None, \"Unknown\")\n",
    "    print(f\"Code {int(value)}: {description} (Count: {count:,})\")"
   ]
  },
  {
   "cell_type": "code",
   "execution_count": null,
   "metadata": {},
   "outputs": [],
   "source": [
    "# List of Variable Names in Category: Chronic Health Conditions\n",
    "chronic_health_conditions_columns = [col for col, meta in bfrss_metadata.items()\n",
    "                     if meta.section_name == 'Chronic Health Conditions']\n",
    "\n",
    "print(f\"Columns in 'Chronic Health Conditions' section: {len(chronic_health_conditions_columns)}\")\n",
    "print(f\"\\nColumn names: {chronic_health_conditions_columns}\")"
   ]
  },
  {
   "cell_type": "code",
   "execution_count": null,
   "metadata": {
    "colab": {
     "base_uri": "https://localhost:8080/"
    },
    "id": "A43kMuaVrLq3",
    "outputId": "1b3f1f54-f5ca-4242-f6da-29f327591f34"
   },
   "outputs": [],
   "source": [
    "# List of Variable Names in Category: Demographics\n",
    "demographics_columns = [col for col, meta in bfrss_metadata.items()\n",
    "                        if 'Demographics' in meta.section_name]\n",
    "\n",
    "print(f\"Columns in 'Demographics' section: {len(demographics_columns)}\")\n",
    "print(f\"\\nColumn names: {demographics_columns}\")"
   ]
  },
  {
   "cell_type": "code",
   "execution_count": null,
   "metadata": {
    "colab": {
     "base_uri": "https://localhost:8080/"
    },
    "id": "mLshGINR6cGq",
    "outputId": "8262c1ce-0b74-48d2-8fbe-6916fc012b34"
   },
   "outputs": [],
   "source": [
    "# Print column names that contain 'FMONTH'\n",
    "matching_columns = [col for col in bfrss_raw_df.columns if 'FMONTH' in col]\n",
    "print(\"Columns containing 'FMONTH':\", matching_columns)\n",
    "\n",
    "# Optionally: show first few values if column exists\n",
    "if matching_columns:\n",
    "    print(\"\\nSample values:\")\n",
    "    print(bfrss_raw_df[matching_columns].head())\n",
    "\n",
    "\n",
    "\n",
    "# Print column names that contain 'DISPCODE'\n",
    "matching_columns = [col for col in bfrss_raw_df.columns if 'DISPCODE' in col]\n",
    "print(\"Columns containing 'DISPCODE':\", matching_columns)\n",
    "\n",
    "# Optionally: show first few values if column exists\n",
    "if matching_columns:\n",
    "    print(\"\\nSample values:\")\n",
    "    print(bfrss_raw_df[matching_columns].head())\n"
   ]
  },
  {
   "cell_type": "code",
   "execution_count": null,
   "metadata": {
    "colab": {
     "base_uri": "https://localhost:8080/"
    },
    "id": "N_8ypW6Jrosq",
    "outputId": "e3754801-d5e8-49f7-e1d5-7f56288b6553"
   },
   "outputs": [],
   "source": [
    "# Demographics EDA\n",
    "\n",
    "# Issue, seems not all calculated variables are mapped, because those with Column name == 'Demographics' is only 13, but contains 'Demographics' is 344. Need to access metadata of calculated variables like _AGE5YR and _MRACE1\n",
    "\n",
    "# Ensure keys in bfrss_metadata are strings, and filter based on section_name\n",
    "demographics_columns = [\n",
    "    col for col, meta in bfrss_metadata.items()\n",
    "    if isinstance(col, str) and hasattr(meta, 'section_name') and 'Demographics' in meta.section_name\n",
    "]\n",
    "\n",
    "print(f\"Columns in 'Demographics' section: {len(demographics_columns)}\")\n",
    "print(f\"\\nColumn names: {demographics_columns}\")\n",
    "\n",
    "# Loop through demographic variables and print metadata\n",
    "for var in demographics_columns:\n",
    "    meta = bfrss_metadata[var]\n",
    "    print(f\"\\n=== Column: {meta.sas_variable_name} ===\")\n",
    "    print(f\"Label: {meta.label}\")\n",
    "    print(f\"Question: {meta.question}\")\n",
    "\n",
    "# Restrict to a specific list of demographic variables (the ones associated with socioeconomic status)\n",
    "demographics_columns = ['EDUCA', 'EMPLOY1', 'INCOME3']\n",
    "\n",
    "# Loop through demographic variables\n",
    "for demographics_variable in demographics_columns:\n",
    "    metadata = bfrss_metadata[demographics_variable]\n",
    "\n",
    "    print(f\"\\n=== Column: {metadata.sas_variable_name} ===\")\n",
    "    print(f\"Label: {metadata.label}\")\n",
    "    print(f\"Question: {metadata.question}\")\n",
    "\n",
    "    print(\"\\nValue mappings:\")\n",
    "    for i, (value, description) in enumerate(metadata.value_lookup.items()):\n",
    "        if i < 10:\n",
    "            print(f\"  {value}: {description}\")\n",
    "\n",
    "    # Demographics_variable value counts\n",
    "    sample_values = bfrss_raw_df[demographics_variable].value_counts().head(10)\n",
    "    print(f\"\\n{metadata.sas_variable_name} category counts:\")\n",
    "\n",
    "    for value, count in sample_values.items():\n",
    "        if pd.notna(value):\n",
    "            try:\n",
    "                lookup_key = int(value)\n",
    "            except ValueError:\n",
    "                lookup_key = value\n",
    "        else:\n",
    "            lookup_key = None\n",
    "\n",
    "        description = metadata.value_lookup.get(lookup_key, \"Unknown\")\n",
    "        print(f\"  Code {value}: {description} (Count: {count:,})\")"
   ]
  },
  {
   "cell_type": "code",
   "execution_count": null,
   "metadata": {
    "colab": {
     "base_uri": "https://localhost:8080/",
     "height": 1000
    },
    "id": "Zprud_XAyBch",
    "outputId": "22306ee2-521c-496e-a103-8a8f80540179"
   },
   "outputs": [],
   "source": [
    "import matplotlib.pyplot as plt\n",
    "import seaborn as sns\n",
    "\n",
    "# Demographics Bar Charts\n",
    "\n",
    "# Restrict to a specific list of demographic variables\n",
    "demographics_columns = ['MARITAL', 'EDUCA', 'EMPLOY1', 'INCOME3']\n",
    "\n",
    "for demographics_variable in demographics_columns:\n",
    "    metadata = bfrss_metadata[demographics_variable]\n",
    "    col_values = bfrss_raw_df[demographics_variable].dropna()\n",
    "\n",
    "    # Map code to label for top 10 value counts\n",
    "    value_counts = col_values.value_counts().head(10)\n",
    "    labels = [metadata.value_lookup.get(int(val), f\"Code {val}\") for val in value_counts.index]\n",
    "\n",
    "    plt.figure(figsize=(10, 5))\n",
    "    sns.barplot(x=value_counts.values, y=labels, orient='h', palette='viridis')\n",
    "    plt.title(f\"Top {len(labels)} Categories for {metadata.sas_variable_name}\\n{metadata.label}\")\n",
    "    plt.xlabel(\"Count\")\n",
    "    plt.ylabel(\"Category\")\n",
    "    plt.tight_layout()\n",
    "    plt.show()\n"
   ]
  },
  {
   "cell_type": "code",
   "execution_count": null,
   "metadata": {
    "colab": {
     "base_uri": "https://localhost:8080/",
     "height": 692
    },
    "id": "dmakmL8QyeTv",
    "outputId": "665ba9f8-5b38-459c-f873-987f97edec32"
   },
   "outputs": [],
   "source": [
    "import matplotlib.pyplot as plt\n",
    "import seaborn as sns\n",
    "import numpy as np\n",
    "from scipy.interpolate import make_interp_spline\n",
    "\n",
    "# INCOME3-specific visualization in logical income order\n",
    "metadata = bfrss_metadata['INCOME3']\n",
    "income_series = bfrss_raw_df['INCOME3'].dropna()\n",
    "\n",
    "# Define the intended logical income order manually\n",
    "ordered_codes = [1, 2, 3, 4, 5, 6, 7, 8, 9, 10, 11, 77, 99]\n",
    "ordered_labels = [metadata.value_lookup.get(code, f\"Code {code}\") for code in ordered_codes]\n",
    "counts = income_series.value_counts()\n",
    "\n",
    "# Extract counts for codes in the desired order (skip codes not in data)\n",
    "ordered_counts = [counts.get(code, 0) for code in ordered_codes]\n",
    "\n",
    "# Custom colors: grays for 77 and 99, color palette for others\n",
    "main_palette = sns.color_palette(\"mako\", len(ordered_codes) - 2)\n",
    "palette = main_palette + [(0.6, 0.6, 0.6), (0.3, 0.3, 0.3)]\n",
    "\n",
    "# Plot\n",
    "plt.figure(figsize=(10, 6))\n",
    "sns.barplot(x=ordered_counts, y=ordered_labels, orient='h', palette=palette)\n",
    "\n",
    "# Smooth line over the main income groups (exclude 77 and 99)\n",
    "x_vals = np.array(ordered_counts[:-2])\n",
    "y_vals = np.array(range(len(ordered_counts) - 2))\n",
    "\n",
    "# Fit a spline for smoothing\n",
    "if len(x_vals) > 3:\n",
    "    spline = make_interp_spline(y_vals, x_vals, k=2)\n",
    "    y_smooth = np.linspace(y_vals.min(), y_vals.max(), 200)\n",
    "    x_smooth = spline(y_smooth)\n",
    "    plt.plot(x_smooth, y_smooth, color='black', linewidth=2)\n",
    "\n",
    "plt.title(f\"Income Distribution ({metadata.sas_variable_name})\\n{metadata.label}\")\n",
    "plt.xlabel(\"Count\")\n",
    "plt.ylabel(\"Income Range\")\n",
    "plt.tight_layout()\n",
    "plt.show()\n"
   ]
  },
  {
   "cell_type": "markdown",
   "metadata": {},
   "source": [
    "# Appendix\n",
    "\n",
    "This section contains examples and documentation for working with the BFRSS data and metadata.\n",
    "\n",
    "## Understanding the Value Ranges Feature\n",
    "\n",
    "The metadata parser has been updated to use `value_ranges` instead of `value_lookup`. This provides more detailed information about each value range including counts.\n",
    "\n",
    "### How It Works\n",
    "\n",
    "Each `ColumnMetadata` object contains a `value_ranges` list with `ValueRange` objects that include:\n",
    "- `start`: The starting value of the range\n",
    "- `end`: The ending value of the range\n",
    "- `description`: Human-readable description\n",
    "- `count`: Number of occurrences in the data\n",
    "\n",
    "The BFRSS wrapper provides convenient methods to work with these value ranges."
   ]
  },
  {
   "cell_type": "code",
   "execution_count": null,
   "metadata": {
    "colab": {
     "base_uri": "https://localhost:8080/"
    },
    "id": "iVOtXyRyA3qq",
    "outputId": "3306a71c-4572-43ce-f688-389f479d318c"
   },
   "outputs": [],
   "source": [
    "import statsmodels.formula.api as smf\n",
    "\n",
    "# Demographic and health condition variables\n",
    "demographics = ['EDUCA', 'EMPLOY1', 'INCOME3', '_RACE']\n",
    "conditions = ['MICHD', 'ASTHMS1', '_DRDXAR2']\n",
    "\n",
    "# Loop through each condition and run a logistic regression on all demographics\n",
    "for cond in conditions:\n",
    "    if cond in bfrss_raw_df.columns:\n",
    "        # Build formula\n",
    "        predictors = ' + '.join([d for d in demographics if d in bfrss_raw_df.columns])\n",
    "        formula = f\"{cond} ~ {predictors}\"\n",
    "\n",
    "        # Subset and clean data\n",
    "        model_data = bfrss_raw_df[[cond] + demographics].dropna()\n",
    "        for col in demographics:\n",
    "            model_data[col] = model_data[col].astype('category')\n",
    "\n",
    "        # Fit logistic regression\n",
    "        try:\n",
    "            model = smf.logit(formula=formula, data=model_data).fit(disp=False)\n",
    "            print(f\"\\n=== Logistic Regression Results for {cond} ===\")\n",
    "            print(model.summary2().tables[1])\n",
    "        except Exception as e:\n",
    "            print(f\"Could not fit model for {cond}: {e}\")\n"
   ]
  }
 ],
 "metadata": {
  "colab": {
   "provenance": []
  },
  "kernelspec": {
   "display_name": "Python 3 (ipykernel)",
   "language": "python",
   "name": "python3"
  },
  "language_info": {
   "name": "python"
  }
 },
 "nbformat": 4,
 "nbformat_minor": 0
}
