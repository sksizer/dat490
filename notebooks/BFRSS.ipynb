{
 "cells": [
  {
   "cell_type": "markdown",
   "metadata": {
    "colab": {
     "base_uri": "https://localhost:8080/"
    },
    "id": "xtt9tXSxGjPU",
    "outputId": "9372b8d9-5238-406e-be6d-7dbbed8d7d12"
   },
   "source": [
    "# BFRSS Data Analysis Notebook\n"
   ]
  },
  {
   "cell_type": "markdown",
   "metadata": {
    "id": "7gcIaBDZpH8O"
   },
   "source": [
    "# Setup\n",
    "\n",
    "This section handles environment detection and package imports for both local and Google Colab environments."
   ]
  },
  {
   "cell_type": "code",
   "execution_count": null,
   "metadata": {
    "colab": {
     "base_uri": "https://localhost:8080/"
    },
    "id": "eckrUOR1ilCW",
    "outputId": "918049f4-4dd1-44ba-a19c-2dfdcc9d21f5"
   },
   "outputs": [],
   "source": [
    "import os\n",
    "import sys\n",
    "import subprocess\n",
    "\n",
    "def is_colab():\n",
    "    return 'google.colab' in str(get_ipython())\n",
    "\n",
    "# Setup for Google Colab environment only\n",
    "if is_colab():\n",
    "    GIT_REPO_URL = 'https://github.com/sksizer/dat490.git'\n",
    "    LOCAL_DIR = '/content/code/dat490'\n",
    "\n",
    "    if not os.path.exists(LOCAL_DIR):\n",
    "        print(f\"Cloning repo into {LOCAL_DIR}...\")\n",
    "        subprocess.run(['git', 'clone', GIT_REPO_URL, LOCAL_DIR], check=True)\n",
    "    else:\n",
    "        print(f\"Repo already exists at {LOCAL_DIR}, pulling latest changes...\")\n",
    "        subprocess.run(['git', '-C', LOCAL_DIR, 'pull'], check=True)\n",
    "\n",
    "    if LOCAL_DIR not in sys.path:\n",
    "        sys.path.insert(0, LOCAL_DIR)\n",
    "        print(f\"Added {LOCAL_DIR} to sys.path\")\n",
    "\n",
    "    # Import dat490 package\n",
    "    import dat490\n",
    "else:\n",
    "    # Running locally - assume dat490 is already available\n",
    "    import dat490"
   ]
  },
  {
   "cell_type": "markdown",
   "metadata": {},
   "source": [
    "# Data Loading and Overview\n",
    "\n",
    "The BFRSS wrapper provides a single interface to access both data and metadata. It automatically handles file paths, lazy loading, and metadata parsing using the LLCP2023_desc_categorized.parquet file which contains both raw codes and _DESC columns."
   ]
  },
  {
   "cell_type": "code",
   "metadata": {
    "id": "xYWEooJMAwr6"
   },
   "outputs": [],
   "source": [
    "# Load BFRSS data and metadata using the new wrapper\n",
    "import pandas as pd\n",
    "from dat490 import load_bfrss_components\n",
    "\n",
    "# Set root directory based on environment\n",
    "if is_colab():\n",
    "    root_directory = '/content/code/dat490'\n",
    "else:\n",
    "    root_directory = None  # Use default search paths\n",
    "\n",
    "# Single function call to load everything with destructured assignment\n",
    "# By default, this loads the _DESC columns in the DataFrame\n",
    "# but excludes them from metadata generation to avoid duplication\n",
    "bfrss_raw_df, bfrss_metadata, logger = load_bfrss_components(exclude_desc_columns=True, root_dir=root_directory)\n",
    "\n",
    "logger.info(f\"DataFrame shape: {bfrss_raw_df.shape}\")\n",
    "logger.info(f\"_DESC columns: {len([col for col in bfrss_raw_df.columns if col.endswith('_DESC')])}\")\n",
    "bfrss_raw_df.info()"
   ]
  },
  {
   "cell_type": "code",
   "metadata": {
    "colab": {
     "base_uri": "https://localhost:8080/"
    },
    "id": "PTKxZUFcNlao",
    "outputId": "01b877d6-0d86-42f2-be7b-b080ab7bd6eb"
   },
   "outputs": [],
   "source": [
    "# Quick data overview\n",
    "print(f\"DataFrame shape: {bfrss_raw_df.shape}\")\n",
    "print(f\"Metadata entries: {len(bfrss_metadata)}\")\n",
    "print(f\"_DESC columns: {len([col for col in bfrss_raw_df.columns if col.endswith('_DESC')])}\")\n",
    "print(\"\\nData loaded successfully. Ready for analysis.\")"
   ]
  },
  {
   "cell_type": "markdown",
   "metadata": {},
   "source": [
    "# Research Question Analysis\n",
    "\n",
    "This section contains the main exploratory data analysis and research questions."
   ]
  },
  {
   "cell_type": "markdown",
   "metadata": {
    "id": "XgwFJt3YNBjQ"
   },
   "source": [
    "## RQ3: Arthritis Analysis"
   ]
  },
  {
   "cell_type": "code",
   "execution_count": null,
   "metadata": {
    "colab": {
     "base_uri": "https://localhost:8080/"
    },
    "id": "IGcHPEctN3yb",
    "outputId": "d5a67d6f-84f3-45e6-e5de-c86c531a45c4"
   },
   "outputs": [],
   "source": [
    "# Arthritis EDA\n",
    "arthritis_metadata = bfrss_metadata['_DRDXAR2']\n",
    "print(f\"Column: {arthritis_metadata.sas_variable_name}\")\n",
    "print(f\"Label: {arthritis_metadata.label}\")\n",
    "print(f\"Question: {arthritis_metadata.question}\")\n",
    "print(f\"\\nValue mappings:\")\n",
    "# Show arthritis mappings\n",
    "for i, (value, description) in enumerate(arthritis_metadata.value_lookup.items()):\n",
    "    if i < 10:\n",
    "        print(f\"  {value}: {description}\")\n",
    "\n",
    "# Arthritis value counts\n",
    "sample_values = bfrss_raw_df['_DRDXAR2'].value_counts().head(10)\n",
    "print(\"\\nArthritis category counts:\")\n",
    "\n",
    "for value, count in sample_values.items():\n",
    "    # Get the description from value_lookup\n",
    "    description = arthritis_metadata.value_lookup.get(int(value) if not pd.isna(value) else None, \"Unknown\")\n",
    "    print(f\"Code {int(value)}: {description} (Count: {count:,})\")"
   ]
  },
  {
   "cell_type": "markdown",
   "metadata": {},
   "source": [
    "## Demographics Analysis"
   ]
  },
  {
   "cell_type": "code",
   "execution_count": null,
   "metadata": {},
   "outputs": [],
   "source": [
    "# Demographics overview - key socioeconomic variables\n",
    "demographics_columns = ['MARITAL', 'EDUCA', 'EMPLOY1', 'INCOME3']\n",
    "\n",
    "for demographics_variable in demographics_columns:\n",
    "    metadata = bfrss_metadata[demographics_variable]\n",
    "    \n",
    "    print(f\"\\n=== {metadata.sas_variable_name} ===\")\n",
    "    print(f\"Label: {metadata.label}\")\n",
    "    \n",
    "    # Show value counts\n",
    "    sample_values = bfrss_raw_df[demographics_variable].value_counts().head(5)\n",
    "    print(f\"\\nTop 5 categories:\")\n",
    "    \n",
    "    for value, count in sample_values.items():\n",
    "        if pd.notna(value):\n",
    "            try:\n",
    "                lookup_key = int(value)\n",
    "            except ValueError:\n",
    "                lookup_key = value\n",
    "        else:\n",
    "            lookup_key = None\n",
    "        \n",
    "        description = metadata.value_lookup.get(lookup_key, \"Unknown\")\n",
    "        print(f\"  Code {value}: {description} (Count: {count:,})\")"
   ]
  },
  {
   "cell_type": "code",
   "execution_count": null,
   "metadata": {},
   "outputs": [],
   "source": [
    "import matplotlib.pyplot as plt\n",
    "import seaborn as sns\n",
    "\n",
    "# Demographics Bar Charts\n",
    "for demographics_variable in demographics_columns:\n",
    "    metadata = bfrss_metadata[demographics_variable]\n",
    "    col_values = bfrss_raw_df[demographics_variable].dropna()\n",
    "\n",
    "    # Map code to label for top 10 value counts\n",
    "    value_counts = col_values.value_counts().head(10)\n",
    "    labels = [metadata.value_lookup.get(int(val), f\"Code {val}\") for val in value_counts.index]\n",
    "\n",
    "    plt.figure(figsize=(10, 5))\n",
    "    sns.barplot(x=value_counts.values, y=labels, orient='h', palette='viridis')\n",
    "    plt.title(f\"Top {len(labels)} Categories for {metadata.sas_variable_name}\\n{metadata.label}\")\n",
    "    plt.xlabel(\"Count\")\n",
    "    plt.ylabel(\"Category\")\n",
    "    plt.tight_layout()\n",
    "    plt.show()"
   ]
  },
  {
   "cell_type": "code",
   "execution_count": null,
   "metadata": {},
   "outputs": [],
   "source": [
    "import numpy as np\n",
    "from scipy.interpolate import make_interp_spline\n",
    "\n",
    "# INCOME3-specific visualization in logical income order\n",
    "metadata = bfrss_metadata['INCOME3']\n",
    "income_series = bfrss_raw_df['INCOME3'].dropna()\n",
    "\n",
    "# Define the intended logical income order manually\n",
    "ordered_codes = [1, 2, 3, 4, 5, 6, 7, 8, 9, 10, 11, 77, 99]\n",
    "ordered_labels = [metadata.value_lookup.get(code, f\"Code {code}\") for code in ordered_codes]\n",
    "counts = income_series.value_counts()\n",
    "\n",
    "# Extract counts for codes in the desired order (skip codes not in data)\n",
    "ordered_counts = [counts.get(code, 0) for code in ordered_codes]\n",
    "\n",
    "# Custom colors: grays for 77 and 99, color palette for others\n",
    "main_palette = sns.color_palette(\"mako\", len(ordered_codes) - 2)\n",
    "palette = main_palette + [(0.6, 0.6, 0.6), (0.3, 0.3, 0.3)]\n",
    "\n",
    "# Plot\n",
    "plt.figure(figsize=(10, 6))\n",
    "sns.barplot(x=ordered_counts, y=ordered_labels, orient='h', palette=palette)\n",
    "\n",
    "# Smooth line over the main income groups (exclude 77 and 99)\n",
    "x_vals = np.array(ordered_counts[:-2])\n",
    "y_vals = np.array(range(len(ordered_counts) - 2))\n",
    "\n",
    "# Fit a spline for smoothing\n",
    "if len(x_vals) > 3:\n",
    "    spline = make_interp_spline(y_vals, x_vals, k=2)\n",
    "    y_smooth = np.linspace(y_vals.min(), y_vals.max(), 200)\n",
    "    x_smooth = spline(y_smooth)\n",
    "    plt.plot(x_smooth, y_smooth, color='black', linewidth=2)\n",
    "\n",
    "plt.title(f\"Income Distribution ({metadata.sas_variable_name})\\n{metadata.label}\")\n",
    "plt.xlabel(\"Count\")\n",
    "plt.ylabel(\"Income Range\")\n",
    "plt.tight_layout()\n",
    "plt.show()"
   ]
  },
  {
   "cell_type": "markdown",
   "metadata": {},
   "source": [
    "# Statistical Modeling"
   ]
  },
  {
   "cell_type": "code",
   "execution_count": null,
   "metadata": {
    "colab": {
     "base_uri": "https://localhost:8080/"
    },
    "id": "A43kMuaVrLq3",
    "outputId": "1b3f1f54-f5ca-4242-f6da-29f327591f34"
   },
   "outputs": [],
   "source": [
    "import statsmodels.formula.api as smf\n",
    "\n",
    "# Demographic and health condition variables\n",
    "demographics = ['EDUCA', 'EMPLOY1', 'INCOME3', '_RACE']\n",
    "conditions = ['MICHD', 'ASTHMS1', '_DRDXAR2']\n",
    "\n",
    "# Loop through each condition and run a logistic regression on all demographics\n",
    "for cond in conditions:\n",
    "    if cond in bfrss_raw_df.columns:\n",
    "        # Build formula\n",
    "        predictors = ' + '.join([d for d in demographics if d in bfrss_raw_df.columns])\n",
    "        formula = f\"{cond} ~ {predictors}\"\n",
    "\n",
    "        # Subset and clean data\n",
    "        model_data = bfrss_raw_df[[cond] + demographics].dropna()\n",
    "        for col in demographics:\n",
    "            model_data[col] = model_data[col].astype('category')\n",
    "\n",
    "        # Fit logistic regression\n",
    "        try:\n",
    "            model = smf.logit(formula=formula, data=model_data).fit(disp=False)\n",
    "            print(f\"\\n=== Logistic Regression Results for {cond} ===\")\n",
    "            print(model.summary2().tables[1])\n",
    "        except Exception as e:\n",
    "            print(f\"Could not fit model for {cond}: {e}\")"
   ]
  },
  {
   "cell_type": "markdown",
   "metadata": {
    "colab": {
     "base_uri": "https://localhost:8080/"
    },
    "id": "mLshGINR6cGq",
    "outputId": "8262c1ce-0b74-48d2-8fbe-6916fc012b34"
   },
   "source": [
    "# Appendix\n",
    "\n",
    "This section contains detailed documentation and examples for working with the BFRSS data and metadata.\n",
    "\n",
    "## Understanding the BFRSS Wrapper\n",
    "\n",
    "The BFRSS wrapper provides convenient methods for working with the data and metadata:\n",
    "\n",
    "1. **Direct value lookup**: `bfrss.lookup_value('_STATE', 1)`\n",
    "2. **Get all sections**: `bfrss.get_sections()`\n",
    "3. **Get columns by section**: `bfrss.get_columns_by_section('Calculated Variables')`\n",
    "4. **Search for columns**: `bfrss.search_columns('diabetes')`\n",
    "\n",
    "## Understanding _DESC Columns\n",
    "\n",
    "The LLCP2023_desc_categorized.parquet file contains both raw numeric codes AND _DESC columns with human-readable categorized versions of the data. These are particularly useful for analysis and visualization.\n",
    "\n",
    "## Metadata Structure\n",
    "\n",
    "Each `ColumnMetadata` object contains detailed information about variables including:\n",
    "- `label`: Variable label\n",
    "- `question`: Survey question text\n",
    "- `value_lookup`: Mapping of codes to descriptions\n",
    "- `section_name`: Organizational section\n",
    "- `type_of_variable`: Variable type classification\n",
    "\n",
    "## Working with Value Ranges\n",
    "\n",
    "The metadata parser uses `value_ranges` instead of `value_lookup` for more detailed information about each value range including counts and descriptions."
   ]
  },
  {
   "cell_type": "markdown",
   "metadata": {},
   "source": [
    "### BFRSS Wrapper Examples"
   ]
  },
  {
   "cell_type": "code",
   "metadata": {},
   "outputs": [],
   "source": [
    "# Demonstrate BFRSS wrapper utility methods\n",
    "# Note: These require the BFRSS object, so we'll create one for utility methods\n",
    "from dat490 import load_bfrss\n",
    "bfrss = load_bfrss(exclude_desc_columns=True, root_dir=root_directory if is_colab() else None)\n",
    "\n",
    "# 1. Direct value lookup\n",
    "state_1_desc = bfrss.lookup_value('_STATE', 1)\n",
    "print(f\"State code 1 = {state_1_desc}\")\n",
    "\n",
    "# 2. Get all sections\n",
    "sections = bfrss.get_sections()\n",
    "print(f\"\\nTotal sections: {len(sections)}\")\n",
    "print(\"First 5 sections:\", sections[:5])\n",
    "\n",
    "# 3. Get columns by section\n",
    "calc_columns = bfrss.get_columns_by_section('Calculated Variables')\n",
    "print(f\"\\nCalculated Variables section has {len(calc_columns)} columns\")\n",
    "print(\"First 5:\", calc_columns[:5])\n",
    "\n",
    "# 4. Search for columns\n",
    "diabetes_columns = bfrss.search_columns('diabetes')\n",
    "print(f\"\\nColumns mentioning 'diabetes': {len(diabetes_columns)}\")\n",
    "for col in diabetes_columns[:3]:\n",
    "    meta = bfrss.get_column_info(col)\n",
    "    print(f\"  {col}: {meta.label}\")"
   ]
  },
  {
   "cell_type": "markdown",
   "metadata": {},
   "source": [
    "### Metadata Coverage Analysis"
   ]
  },
  {
   "cell_type": "code",
   "execution_count": null,
   "metadata": {
    "colab": {
     "base_uri": "https://localhost:8080/"
    },
    "id": "N_8ypW6Jrosq",
    "outputId": "e3754801-d5e8-49f7-e1d5-7f56288b6553"
   },
   "outputs": [],
   "source": [
    "# Demographics EDA\n",
    "\n",
    "# Issue, seems not all calculated variables are mapped, because those with Column name == 'Demographics' is only 13, but contains 'Demographics' is 344. Need to access metadata of calculated variables like _AGE5YR and _MRACE1\n",
    "\n",
    "# Ensure keys in bfrss_metadata are strings, and filter based on section_name\n",
    "demographics_columns = [\n",
    "    col for col, meta in bfrss_metadata.items()\n",
    "    if isinstance(col, str) and hasattr(meta, 'section_name') and 'Demographics' in meta.section_name\n",
    "]\n",
    "\n",
    "print(f\"Columns in 'Demographics' section: {len(demographics_columns)}\")\n",
    "print(f\"\\nColumn names: {demographics_columns}\")\n",
    "\n",
    "# Loop through demographic variables and print metadata\n",
    "for var in demographics_columns:\n",
    "    meta = bfrss_metadata[var]\n",
    "    print(f\"\\n=== Column: {meta.sas_variable_name} ===\")\n",
    "    print(f\"Label: {meta.label}\")\n",
    "    print(f\"Question: {meta.question}\")\n",
    "\n",
    "# Restrict to a specific list of demographic variables (the ones associated with socioeconomic status)\n",
    "demographics_columns = ['EDUCA', 'EMPLOY1', 'INCOME3']\n",
    "\n",
    "# Loop through demographic variables\n",
    "for demographics_variable in demographics_columns:\n",
    "    metadata = bfrss_metadata[demographics_variable]\n",
    "\n",
    "    print(f\"\\n=== Column: {metadata.sas_variable_name} ===\")\n",
    "    print(f\"Label: {metadata.label}\")\n",
    "    print(f\"Question: {metadata.question}\")\n",
    "\n",
    "    print(\"\\nValue mappings:\")\n",
    "    for i, (value, description) in enumerate(metadata.value_lookup.items()):\n",
    "        if i < 10:\n",
    "            print(f\"  {value}: {description}\")\n",
    "\n",
    "    # Demographics_variable value counts\n",
    "    sample_values = bfrss_raw_df[demographics_variable].value_counts().head(10)\n",
    "    print(f\"\\n{metadata.sas_variable_name} category counts:\")\n",
    "\n",
    "    for value, count in sample_values.items():\n",
    "        if pd.notna(value):\n",
    "            try:\n",
    "                lookup_key = int(value)\n",
    "            except ValueError:\n",
    "                lookup_key = value\n",
    "        else:\n",
    "            lookup_key = None\n",
    "\n",
    "        description = metadata.value_lookup.get(lookup_key, \"Unknown\")\n",
    "        print(f\"  Code {value}: {description} (Count: {count:,})\")"
   ]
  },
  {
   "cell_type": "code",
   "execution_count": null,
   "metadata": {
    "colab": {
     "base_uri": "https://localhost:8080/",
     "height": 1000
    },
    "id": "Zprud_XAyBch",
    "outputId": "22306ee2-521c-496e-a103-8a8f80540179"
   },
   "outputs": [],
   "source": [
    "import matplotlib.pyplot as plt\n",
    "import seaborn as sns\n",
    "\n",
    "# Demographics Bar Charts\n",
    "\n",
    "# Restrict to a specific list of demographic variables\n",
    "demographics_columns = ['MARITAL', 'EDUCA', 'EMPLOY1', 'INCOME3']\n",
    "\n",
    "for demographics_variable in demographics_columns:\n",
    "    metadata = bfrss_metadata[demographics_variable]\n",
    "    col_values = bfrss_raw_df[demographics_variable].dropna()\n",
    "\n",
    "    # Map code to label for top 10 value counts\n",
    "    value_counts = col_values.value_counts().head(10)\n",
    "    labels = [metadata.value_lookup.get(int(val), f\"Code {val}\") for val in value_counts.index]\n",
    "\n",
    "    plt.figure(figsize=(10, 5))\n",
    "    sns.barplot(x=value_counts.values, y=labels, orient='h', palette='viridis')\n",
    "    plt.title(f\"Top {len(labels)} Categories for {metadata.sas_variable_name}\\n{metadata.label}\")\n",
    "    plt.xlabel(\"Count\")\n",
    "    plt.ylabel(\"Category\")\n",
    "    plt.tight_layout()\n",
    "    plt.show()\n"
   ]
  },
  {
   "cell_type": "code",
   "execution_count": null,
   "metadata": {
    "colab": {
     "base_uri": "https://localhost:8080/",
     "height": 692
    },
    "id": "dmakmL8QyeTv",
    "outputId": "665ba9f8-5b38-459c-f873-987f97edec32"
   },
   "outputs": [],
   "source": [
    "import matplotlib.pyplot as plt\n",
    "import seaborn as sns\n",
    "import numpy as np\n",
    "from scipy.interpolate import make_interp_spline\n",
    "\n",
    "# INCOME3-specific visualization in logical income order\n",
    "metadata = bfrss_metadata['INCOME3']\n",
    "income_series = bfrss_raw_df['INCOME3'].dropna()\n",
    "\n",
    "# Define the intended logical income order manually\n",
    "ordered_codes = [1, 2, 3, 4, 5, 6, 7, 8, 9, 10, 11, 77, 99]\n",
    "ordered_labels = [metadata.value_lookup.get(code, f\"Code {code}\") for code in ordered_codes]\n",
    "counts = income_series.value_counts()\n",
    "\n",
    "# Extract counts for codes in the desired order (skip codes not in data)\n",
    "ordered_counts = [counts.get(code, 0) for code in ordered_codes]\n",
    "\n",
    "# Custom colors: grays for 77 and 99, color palette for others\n",
    "main_palette = sns.color_palette(\"mako\", len(ordered_codes) - 2)\n",
    "palette = main_palette + [(0.6, 0.6, 0.6), (0.3, 0.3, 0.3)]\n",
    "\n",
    "# Plot\n",
    "plt.figure(figsize=(10, 6))\n",
    "sns.barplot(x=ordered_counts, y=ordered_labels, orient='h', palette=palette)\n",
    "\n",
    "# Smooth line over the main income groups (exclude 77 and 99)\n",
    "x_vals = np.array(ordered_counts[:-2])\n",
    "y_vals = np.array(range(len(ordered_counts) - 2))\n",
    "\n",
    "# Fit a spline for smoothing\n",
    "if len(x_vals) > 3:\n",
    "    spline = make_interp_spline(y_vals, x_vals, k=2)\n",
    "    y_smooth = np.linspace(y_vals.min(), y_vals.max(), 200)\n",
    "    x_smooth = spline(y_smooth)\n",
    "    plt.plot(x_smooth, y_smooth, color='black', linewidth=2)\n",
    "\n",
    "plt.title(f\"Income Distribution ({metadata.sas_variable_name})\\n{metadata.label}\")\n",
    "plt.xlabel(\"Count\")\n",
    "plt.ylabel(\"Income Range\")\n",
    "plt.tight_layout()\n",
    "plt.show()\n"
   ]
  },
  {
   "cell_type": "code",
   "execution_count": null,
   "metadata": {},
   "outputs": [],
   "source": [
    "# List of Variable Names in Category: Chronic Health Conditions\n",
    "chronic_health_conditions_columns = [col for col, meta in bfrss_metadata.items()\n",
    "                     if meta.section_name == 'Chronic Health Conditions']\n",
    "\n",
    "print(f\"Columns in 'Chronic Health Conditions' section: {len(chronic_health_conditions_columns)}\")\n",
    "print(f\"\\nColumn names: {chronic_health_conditions_columns}\")\n",
    "\n",
    "# List of Variable Names in Category: Demographics\n",
    "demographics_columns = [col for col, meta in bfrss_metadata.items()\n",
    "                        if 'Demographics' in meta.section_name]\n",
    "\n",
    "print(f\"\\nColumns in 'Demographics' section: {len(demographics_columns)}\")\n",
    "print(f\"\\nColumn names: {demographics_columns}\")\n",
    "\n",
    "# Print column names that contain 'FMONTH'\n",
    "matching_columns = [col for col in bfrss_raw_df.columns if 'FMONTH' in col]\n",
    "print(\"\\nColumns containing 'FMONTH':\", matching_columns)\n",
    "\n",
    "# Print column names that contain 'DISPCODE'\n",
    "matching_columns = [col for col in bfrss_raw_df.columns if 'DISPCODE' in col]\n",
    "print(\"Columns containing 'DISPCODE':\", matching_columns)"
   ]
  },
  {
   "cell_type": "markdown",
   "metadata": {
    "jp-MarkdownHeadingCollapsed": true
   },
   "source": [
    "### SMF\n"
   ]
  },
  {
   "cell_type": "code",
   "execution_count": null,
   "metadata": {
    "colab": {
     "base_uri": "https://localhost:8080/"
    },
    "id": "iVOtXyRyA3qq",
    "outputId": "3306a71c-4572-43ce-f688-389f479d318c"
   },
   "outputs": [],
   "source": [
    "import statsmodels.formula.api as smf\n",
    "\n",
    "# Demographic and health condition variables\n",
    "demographics = ['EDUCA', 'EMPLOY1', 'INCOME3', '_RACE']\n",
    "conditions = ['MICHD', 'ASTHMS1', '_DRDXAR2']\n",
    "\n",
    "# Loop through each condition and run a logistic regression on all demographics\n",
    "for cond in conditions:\n",
    "    if cond in bfrss_raw_df.columns:\n",
    "        # Build formula\n",
    "        predictors = ' + '.join([d for d in demographics if d in bfrss_raw_df.columns])\n",
    "        formula = f\"{cond} ~ {predictors}\"\n",
    "\n",
    "        # Subset and clean data\n",
    "        model_data = bfrss_raw_df[[cond] + demographics].dropna()\n",
    "        for col in demographics:\n",
    "            model_data[col] = model_data[col].astype('category')\n",
    "\n",
    "        # Fit logistic regression\n",
    "        try:\n",
    "            model = smf.logit(formula=formula, data=model_data).fit(disp=False)\n",
    "            print(f\"\\n=== Logistic Regression Results for {cond} ===\")\n",
    "            print(model.summary2().tables[1])\n",
    "        except Exception as e:\n",
    "            print(f\"Could not fit model for {cond}: {e}\")\n"
   ]
  },
  {
   "cell_type": "markdown",
   "metadata": {},
   "source": [
    "# Appendix\n",
    "\n",
    "This section contains examples and documentation for working with the BFRSS data and metadata.\n",
    "\n",
    "## Understanding the Value Ranges Feature\n",
    "\n",
    "The metadata parser has been updated to use `value_ranges` instead of `value_lookup`. This provides more detailed information about each value range including counts.\n",
    "\n",
    "### How It Works\n",
    "\n",
    "Each `ColumnMetadata` object contains a `value_ranges` list with `ValueRange` objects that include:\n",
    "- `start`: The starting value of the range\n",
    "- `end`: The ending value of the range\n",
    "- `description`: Human-readable description\n",
    "- `count`: Number of occurrences in the data\n",
    "\n",
    "The BFRSS wrapper provides convenient methods to work with these value ranges.\n",
    "\n"
   ]
  }
 ],
 "metadata": {
  "colab": {
   "provenance": []
  },
  "kernelspec": {
   "display_name": "Python 3 (ipykernel)",
   "language": "python",
   "name": "python3"
  },
  "language_info": {
   "codemirror_mode": {
    "name": "ipython",
    "version": 3
   },
   "file_extension": ".py",
   "mimetype": "text/x-python",
   "name": "python",
   "nbconvert_exporter": "python",
   "pygments_lexer": "ipython3",
   "version": "3.13.3"
  }
 },
 "nbformat": 4,
 "nbformat_minor": 4
}
