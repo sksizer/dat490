{
  "nbformat": 4,
  "nbformat_minor": 0,
  "metadata": {
    "colab": {
      "provenance": [],
      "collapsed_sections": [
        "YMzEMIm7Iuw6"
      ],
      "include_colab_link": true
    },
    "kernelspec": {
      "name": "python3",
      "display_name": "Python 3"
    },
    "language_info": {
      "name": "python"
    }
  },
  "cells": [
    {
      "cell_type": "markdown",
      "metadata": {
        "id": "view-in-github",
        "colab_type": "text"
      },
      "source": [
        "<a href=\"https://colab.research.google.com/github/sksizer/dat490/blob/main/LATEST_BFRSS_Exploration_KB_Copy.ipynb\" target=\"_parent\"><img src=\"https://colab.research.google.com/assets/colab-badge.svg\" alt=\"Open In Colab\"/></a>"
      ]
    },
    {
      "cell_type": "markdown",
      "source": [
        "# Environment Setup\n",
        "- check env\n",
        "- set and test paths for data"
      ],
      "metadata": {
        "id": "YMzEMIm7Iuw6"
      }
    },
    {
      "cell_type": "code",
      "source": [
        "import os\n",
        "from IPython import get_ipython\n",
        "import urllib.request\n",
        "import logging\n",
        "\n",
        "logger = logging.getLogger()\n",
        "logger.setLevel(logging.INFO)\n",
        "\n",
        "def is_colab():\n",
        "    return 'google.colab' in str(get_ipython())\n",
        "\n",
        "def download_if_needed(url: str, filename: str) -> str:\n",
        "    \"\"\"Download a file if it doesn't already exist.\"\"\"\n",
        "    if not os.path.exists(filename):\n",
        "        urllib.request.urlretrieve(url, filename)\n",
        "        print(f\"Downloaded: {filename}\")\n",
        "    else:\n",
        "        print(f\"Using cached file: {filename}\")\n",
        "    return filename\n",
        "\n",
        "# Set up file paths\n",
        "if is_colab():\n",
        "    BFRSS_DATA_PATH = download_if_needed(\n",
        "        \"https://singular-eclair-6a5a16.netlify.app/LLCP2023.parquet\",\n",
        "        \"LLCP2023.parquet\"\n",
        "    )\n",
        "    BFRSS_CODEBOOK_PATH = download_if_needed(\n",
        "        \"https://singular-eclair-6a5a16.netlify.app/html/codebook_USCODE23_LLCP_021924.HTML\",\n",
        "        \"codebook_USCODE23_LLCP_021924.HTML\"\n",
        "    )\n",
        "else:\n",
        "    BFRSS_DATA_PATH = './data/LLCP2023.parquet'\n",
        "    BFRSS_CODEBOOK_PATH = './data/codebook_USCODE23_LLCP_021924.HTML'\n",
        "\n",
        "# Check file existence\n",
        "if not os.path.exists(BFRSS_DATA_PATH):\n",
        "    raise FileNotFoundError(f\"Data path {BFRSS_DATA_PATH} does not exist\")\n",
        "\n",
        "if not os.path.exists(BFRSS_CODEBOOK_PATH):\n",
        "    raise FileNotFoundError(f\"Codebook path {BFRSS_CODEBOOK_PATH} does not exist\")\n",
        "\n",
        "logger.info('Environment setup complete')\n",
        "\n",
        "\n",
        "\n"
      ],
      "metadata": {
        "colab": {
          "base_uri": "https://localhost:8080/"
        },
        "id": "pVJYYPAYIT8C",
        "outputId": "481b6ab0-cff9-49e9-ccbf-df14b770f3c5"
      },
      "execution_count": null,
      "outputs": [
        {
          "output_type": "stream",
          "name": "stdout",
          "text": [
            "Downloaded: LLCP2023.parquet\n"
          ]
        },
        {
          "output_type": "stream",
          "name": "stderr",
          "text": [
            "INFO:root:Environment setup complete\n"
          ]
        },
        {
          "output_type": "stream",
          "name": "stdout",
          "text": [
            "Downloaded: codebook_USCODE23_LLCP_021924.HTML\n"
          ]
        }
      ]
    },
    {
      "cell_type": "markdown",
      "source": [
        "# Load Data and Metadata\n",
        "- creates starting DF `bfrss_raw_df` from BFRSS data\n",
        "- extract metadata: parses [Codebook](https://github.com/sksizer/dat490/blob/main/data/codebook_USCODE23_LLCP_021924.HTML) into a dictionary that uses columns as keys:\n",
        "  ```\n",
        "  bfrss_metadata\n",
        "  # to get the metadata for a column:\n",
        "  bfrss_metadata['COLUMN1']\n",
        "\n",
        "  # It also has value to value descriptions such as:\n",
        "  bfrss_metadata['COLUMN1'].value_lookup[1] # will return something like 'Number of times worked out in last week'\n",
        "  ```"
      ],
      "metadata": {
        "id": "7gcIaBDZpH8O"
      }
    },
    {
      "cell_type": "code",
      "execution_count": null,
      "metadata": {
        "id": "eckrUOR1ilCW",
        "outputId": "918049f4-4dd1-44ba-a19c-2dfdcc9d21f5",
        "colab": {
          "base_uri": "https://localhost:8080/"
        }
      },
      "outputs": [
        {
          "output_type": "stream",
          "name": "stderr",
          "text": [
            "INFO:numexpr.utils:NumExpr defaulting to 2 threads.\n"
          ]
        },
        {
          "output_type": "stream",
          "name": "stdout",
          "text": [
            "<class 'pandas.core.frame.DataFrame'>\n",
            "RangeIndex: 433323 entries, 0 to 433322\n",
            "Columns: 350 entries, _STATE to _DRNKDRV\n",
            "dtypes: float64(345), object(5)\n",
            "memory usage: 1.1+ GB\n"
          ]
        }
      ],
      "source": [
        "import pandas as pd\n",
        "bfrss_raw_df = pd.read_parquet(BFRSS_DATA_PATH)\n",
        "bfrss_raw_df.info()"
      ]
    },
    {
      "cell_type": "code",
      "source": [
        "from pydantic import BaseModel, Field\n",
        "from typing import Optional\n",
        "import re\n",
        "from pathlib import Path\n",
        "from typing import Dict\n",
        "from bs4 import BeautifulSoup, PageElement\n",
        "\n",
        "\n",
        "class ColumnMetadata(BaseModel):\n",
        "    computed: bool\n",
        "    label: str\n",
        "    sas_variable_name: str\n",
        "    section_name: Optional[str] = None\n",
        "    section_number: Optional[int] = None\n",
        "    module_number: Optional[int] = None  # Added module_number field\n",
        "    question_number: Optional[int] = None\n",
        "    column: Optional[str] = None  # Can be a range like \"1-2\" or single number\n",
        "    type_of_variable: Optional[str] = None  # \"Num\" or \"Char\"\n",
        "    question_prologue: Optional[str] = None\n",
        "    question: Optional[str] = None\n",
        "    value_lookup: dict[None | int, str] # This is a dictionary that returns the textual\n",
        "\n",
        "\n",
        "def get_value_lookup(table:PageElement) -> Dict[None | int, str]:\n",
        "    \"\"\"\n",
        "    Given one of the branch table objects, we can extract out in a fairly\n",
        "    simple manner all the possible values for the target column\n",
        "\n",
        "    Simplified table structure example:\n",
        "    <table>\n",
        "    <tbody>\n",
        "    <tr>\n",
        "    <td>value</td> (which might be a single int value, blank or could be a range\n",
        "    <td>Value description\n",
        "    </tr>\n",
        "    </tbody>\n",
        "    </table>\n",
        "\n",
        "    :param table:\n",
        "    :return:\n",
        "    \"\"\"\n",
        "    value_dict : Dict[None | int, str] = {} # Stores the value to value description\n",
        "\n",
        "    for tr in table.find('tbody').find_all('tr'):\n",
        "        cells = tr.find_all('td')\n",
        "        if len(cells) < 2:\n",
        "            continue\n",
        "\n",
        "        value_text = cells[0].text.strip()\n",
        "        description = cells[1].text.strip()\n",
        "\n",
        "        # Check if the value is actually a range such as \"1 - 30\" or \"1-30\"\n",
        "        range_match = re.match(r'^(\\d+)\\s*[-–]\\s*(\\d+)$', value_text)\n",
        "        if range_match:\n",
        "            start = int(range_match.group(1))\n",
        "            end = int(range_match.group(2))\n",
        "            # Add each value in the range\n",
        "            # This is kind of ugly because we are creating some value lookups\n",
        "            # that have thousands of values...a function would be better but I\n",
        "            # was trying to keep the metadata 'pure' data\n",
        "            for i in range(start, end + 1):\n",
        "                value_dict[i] = description\n",
        "        else:\n",
        "            # Try to parse as single integer\n",
        "            try:\n",
        "                value = int(value_text)\n",
        "                value_dict[value] = description\n",
        "            except:\n",
        "                # If not a number, store as None\n",
        "                value_dict[None] = description\n",
        "\n",
        "    return value_dict\n",
        "\n",
        "def parse_codebook_html(html_path: Path) -> Dict[str, ColumnMetadata]:\n",
        "    \"\"\"\n",
        "    Parse the BRFSS codebook HTML file and extract column metadata.\n",
        "\n",
        "    Args:\n",
        "        html_path: Path to the HTML codebook file\n",
        "\n",
        "    Returns:\n",
        "        Dictionary mapping SAS variable names to ColumnMetadata objects\n",
        "    \"\"\"\n",
        "    with open(html_path, 'r', encoding='windows-1252') as f:\n",
        "        html_content = f.read()\n",
        "\n",
        "    soup = BeautifulSoup(html_content, 'html.parser')\n",
        "\n",
        "    # Find all div elements with class \"branch\"\n",
        "    branches = soup.find_all('div', class_='branch')\n",
        "\n",
        "    # The first one is the Codebook header table which we don't want\n",
        "    branches = branches[1:]\n",
        "\n",
        "    metadata_dict = {}\n",
        "\n",
        "    for branch in branches:\n",
        "        # Find the table with summary=\"Procedure Report: Report\"\n",
        "        table = branch.find('table', attrs={'summary': 'Procedure Report: Report'})\n",
        "        if not table:\n",
        "            continue\n",
        "\n",
        "        # Find the first td in the thead > tr\n",
        "        thead = table.find('thead')\n",
        "        if not thead:\n",
        "            continue\n",
        "\n",
        "        first_tr = thead.find('tr')\n",
        "        if not first_tr:\n",
        "            continue\n",
        "\n",
        "        # Find td with metadata content - may not have all classes\n",
        "        metadata_cell = None\n",
        "        for td in first_tr.find_all('td'):\n",
        "            text = td.get_text()\n",
        "            if text:\n",
        "                # Clean text before checking\n",
        "                text_clean = text.replace('\\xa0', ' ')\n",
        "                if 'Label:' in text_clean and 'SAS Variable Name:' in text_clean:\n",
        "                    metadata_cell = td\n",
        "                    break\n",
        "\n",
        "        if not metadata_cell:\n",
        "            continue\n",
        "\n",
        "        cell_text = metadata_cell.get_text()\n",
        "\n",
        "        # Check if this cell contains column metadata by looking for key fields\n",
        "        try:\n",
        "            # Extract fields using regex - handle non-breaking spaces\n",
        "            cell_text = cell_text.replace('\\xa0', ' ')  # Replace non-breaking spaces\n",
        "\n",
        "            label_match = re.search(r'Label:\\s*(.+?)(?=Section\\s*Name:|Core\\s*Section\\s*Number:|Module\\s*Number:|$)', cell_text, re.DOTALL)\n",
        "            section_name_match = re.search(r'Section\\s*Name:\\s*(.+?)(?=Core\\s*Section\\s*Number:|Section\\s*Number:|Module\\s*Number:|Question\\s*Number:|$)', cell_text, re.DOTALL)\n",
        "            # Handle both \"Core Section Number\" and \"Section Number\"\n",
        "            section_number_match = re.search(r'(?:Core\\s*)?Section\\s*Number:\\s*(\\d+)', cell_text)\n",
        "            # Handle \"Module Number\"\n",
        "            module_number_match = re.search(r'Module\\s*Number:\\s*(\\d+)', cell_text)\n",
        "            question_number_match = re.search(r'Question\\s*Number:\\s*(\\d+)', cell_text)\n",
        "            column_match = re.search(r'Column:\\s*(.+?)(?=Type\\s*of\\s*Variable:|$)', cell_text, re.DOTALL)\n",
        "            type_match = re.search(r'Type\\s*of\\s*Variable:\\s*(.+?)(?=SAS\\s*Variable\\s*Name:|$)', cell_text, re.DOTALL)\n",
        "            sas_name_match = re.search(r'SAS\\s*Variable\\s*Name:\\s*(.+?)(?=Question\\s*Prologue:|Question:|$)', cell_text, re.DOTALL)\n",
        "            prologue_match = re.search(r'Question\\s*Prologue:\\s*(.+?)(?=Question:|$)', cell_text, re.DOTALL)\n",
        "            question_match = re.search(r'Question:\\s*(.+?)$', cell_text, re.DOTALL)\n",
        "\n",
        "            # Only require label and SAS variable name\n",
        "            if label_match and sas_name_match:\n",
        "\n",
        "                # Clean up the extracted values\n",
        "                label = label_match.group(1).strip()\n",
        "                sas_variable_name = sas_name_match.group(1).strip()\n",
        "\n",
        "                # Extract optional fields\n",
        "                section_name = section_name_match.group(1).strip() if section_name_match else None\n",
        "                section_number = int(section_number_match.group(1)) if section_number_match else None\n",
        "                module_number = int(module_number_match.group(1)) if module_number_match else None\n",
        "                question_number = int(question_number_match.group(1)) if question_number_match else None\n",
        "                column = column_match.group(1).strip() if column_match else None\n",
        "                type_of_variable = type_match.group(1).strip() if type_match else None\n",
        "                question_prologue = prologue_match.group(1).strip() if prologue_match else None\n",
        "                question = question_match.group(1).strip() if question_match else None\n",
        "\n",
        "                # Remove any extra whitespace or newlines\n",
        "                if question_prologue and not question_prologue:\n",
        "                    question_prologue = None\n",
        "\n",
        "                # Create ColumnMetadata object\n",
        "                metadata = ColumnMetadata(\n",
        "                    label=label,\n",
        "                    sas_variable_name=sas_variable_name,\n",
        "                    section_name=section_name,\n",
        "                    section_number=section_number,\n",
        "                    module_number=module_number,\n",
        "                    question_number=question_number,\n",
        "                    column=column,\n",
        "                    type_of_variable=type_of_variable,\n",
        "                    question_prologue=question_prologue,\n",
        "                    question=question,\n",
        "                    value_lookup=get_value_lookup(table),\n",
        "                    computed= True if section_name == 'Calculated Variables' or section_name == 'Calculated Race Variables' else False\n",
        "                )\n",
        "\n",
        "                metadata_dict[sas_variable_name] = metadata\n",
        "\n",
        "        except Exception as e:\n",
        "            # Skip cells that don't parse correctly but show problems\n",
        "            print(e)\n",
        "\n",
        "    return metadata_dict\n",
        "\n",
        "\n",
        "bfrss_metadata = parse_codebook_html(BFRSS_CODEBOOK_PATH)"
      ],
      "metadata": {
        "id": "xYWEooJMAwr6"
      },
      "execution_count": null,
      "outputs": []
    },
    {
      "cell_type": "code",
      "source": [
        "# Display the number of columns parsed\n",
        "print(f\"Parsed {len(bfrss_metadata)} column definitions from the codebook\")\n",
        "\n",
        "# Show a sample of the metadata\n",
        "sample_keys = list(bfrss_metadata.keys())[:5]\n",
        "for key in sample_keys:\n",
        "    metadata = bfrss_metadata[key]\n",
        "    print(f\"\\n{key}:\")\n",
        "    print(f\"  Label: {metadata.label}\")\n",
        "    print(f\"  Question: {metadata.question}\")\n",
        "    print(f\"  Column: {metadata.column}\")\n",
        "    print(f\"  Type: {metadata.type_of_variable}\")\n",
        "    print(f\"  Computed: {metadata.computed}\")\n",
        "    print(f\"  Section Name: {metadata.section_name}\")\n",
        "    print(f\"  Section Number: {metadata.section_number}\")\n",
        "    print(f\"  Question Number: {metadata.question_number}\")"
      ],
      "metadata": {
        "id": "PTKxZUFcNlao",
        "colab": {
          "base_uri": "https://localhost:8080/"
        },
        "outputId": "01b877d6-0d86-42f2-be7b-b080ab7bd6eb"
      },
      "execution_count": null,
      "outputs": [
        {
          "output_type": "stream",
          "name": "stdout",
          "text": [
            "Parsed 344 column definitions from the codebook\n",
            "\n",
            "_STATE:\n",
            "  Label: State FIPS Code\n",
            "  Question: State FIPS Code\n",
            "  Column: 1-2\n",
            "  Type: Num\n",
            "  Computed: False\n",
            "  Section Name: Record Identification\n",
            "  Section Number: 0\n",
            "  Question Number: 1\n",
            "\n",
            "FMONTH:\n",
            "  Label: File Month\n",
            "  Question: File Month\n",
            "  Column: 17-18\n",
            "  Type: Num\n",
            "  Computed: False\n",
            "  Section Name: Record Identification\n",
            "  Section Number: 0\n",
            "  Question Number: 8\n",
            "\n",
            "IDATE:\n",
            "  Label: Interview Date\n",
            "  Question: Interview Date\n",
            "  Column: 19-26\n",
            "  Type: Char\n",
            "  Computed: False\n",
            "  Section Name: Record Identification\n",
            "  Section Number: 0\n",
            "  Question Number: 9\n",
            "\n",
            "IMONTH:\n",
            "  Label: Interview Month\n",
            "  Question: Interview Month\n",
            "  Column: 19-20\n",
            "  Type: Char\n",
            "  Computed: False\n",
            "  Section Name: Record Identification\n",
            "  Section Number: 0\n",
            "  Question Number: 10\n",
            "\n",
            "IDAY:\n",
            "  Label: Interview Day\n",
            "  Question: Interview Day\n",
            "  Column: 21-22\n",
            "  Type: Char\n",
            "  Computed: False\n",
            "  Section Name: Record Identification\n",
            "  Section Number: 0\n",
            "  Question Number: 11\n"
          ]
        }
      ]
    },
    {
      "cell_type": "markdown",
      "source": [
        "# Metadata Documentation\n",
        "Notes and examples of the metadata extraction:\n",
        "\n"
      ],
      "metadata": {
        "id": "XgwFJt3YNBjQ"
      }
    },
    {
      "cell_type": "code",
      "source": [
        "print(f\"Total columns in dataframe: {len(bfrss_raw_df.columns)}\")\n",
        "print(f\"Total metadata parsed: {len(bfrss_metadata)}\")\n",
        "print(f\"Coverage: {len(bfrss_metadata) / len(bfrss_raw_df.columns) * 100:.1f}%\")\n",
        "\n",
        "# Check which columns don't have metadata\n",
        "missing_metadata = [col for col in bfrss_raw_df.columns if col not in bfrss_metadata]\n",
        "print(f\"\\nColumns without metadata: {len(missing_metadata)}\")\n",
        "if missing_metadata:\n",
        "    print(\"First 10 missing:\", missing_metadata[:10])\n",
        "print(\"Note: There is data for these columns but no metadata is available, likely purged bc of policy changes.\")"
      ],
      "metadata": {
        "id": "IGcHPEctN3yb",
        "colab": {
          "base_uri": "https://localhost:8080/"
        },
        "outputId": "d5a67d6f-84f3-45e6-e5de-c86c531a45c4"
      },
      "execution_count": null,
      "outputs": [
        {
          "output_type": "stream",
          "name": "stdout",
          "text": [
            "Total columns in dataframe: 350\n",
            "Total metadata parsed: 344\n",
            "Coverage: 98.3%\n",
            "\n",
            "Columns without metadata: 7\n",
            "First 10 missing: ['LNDSXBRT', 'CELSXBRT', 'BIRTHSEX', 'TRNSGNDR', 'USEMRJN4', 'RCSGEND1', 'RCSXBRTH']\n",
            "Note: There is data for these columns but no metadata is available, likely purged bc of policy changes.\n"
          ]
        }
      ]
    },
    {
      "cell_type": "markdown",
      "source": [
        "## Understanding the Friendly Mapping Feature\n",
        "(note I generated the following docs and examples with ChatGPT, but I've vetted all of it)\n",
        "\n",
        "The metadata parser includes a powerful \"friendly mapping\" feature that translates numeric codes in the dataset to their human-readable descriptions. This is particularly useful for categorical variables where numeric codes represent specific responses.\n",
        "\n",
        "### How It Works\n",
        "\n",
        "Each `ColumnMetadata` object contains a `value_lookup` dictionary that maps numeric values (or None) to their text descriptions. This mapping is automatically extracted from the codebook HTML file during parsing.\n",
        "\n",
        "#### Key Components:\n",
        "\n",
        "1. **`value_lookup` dictionary**: Found in each `ColumnMetadata` object\n",
        "   - Keys: Numeric codes (int) or None\n",
        "   - Values: Human-readable descriptions (str)\n",
        "\n",
        "2. **Automatic extraction**: The `get_value_lookup()` function in `parser.py` extracts these mappings from HTML tables in the codebook"
      ],
      "metadata": {
        "id": "CUSQ1RmqOssx"
      }
    },
    {
      "cell_type": "markdown",
      "source": [
        "### Example 1: Understanding what values mean for a specific column"
      ],
      "metadata": {
        "id": "gODrkHvrTg-u"
      }
    },
    {
      "cell_type": "code",
      "source": [
        "# Example 1: Understanding what values mean for a specific column\n",
        "# Let's look at the _STATE column which has distinct state codes\n",
        "\n",
        "state_metadata = bfrss_metadata['_STATE']\n",
        "print(f\"Column: {state_metadata.sas_variable_name}\")\n",
        "print(f\"Label: {state_metadata.label}\")\n",
        "print(f\"Question: {state_metadata.question}\")\n",
        "print(f\"\\nSample of value mappings (first 10):\")\n",
        "# Show first 10 state mappings\n",
        "for i, (value, description) in enumerate(state_metadata.value_lookup.items()):\n",
        "    if i < 10:\n",
        "        print(f\"  {value}: {description}\")"
      ],
      "metadata": {
        "id": "0rJpt2FIOttO",
        "colab": {
          "base_uri": "https://localhost:8080/"
        },
        "outputId": "33ea9fa2-07e6-476f-824f-1bdda3227c23"
      },
      "execution_count": null,
      "outputs": [
        {
          "output_type": "stream",
          "name": "stdout",
          "text": [
            "Column: _STATE\n",
            "Label: State FIPS Code\n",
            "Question: State FIPS Code\n",
            "\n",
            "Sample of value mappings (first 10):\n",
            "  1: Alabama\n",
            "  2: Alaska\n",
            "  4: Arizona\n",
            "  5: Arkansas\n",
            "  6: California\n",
            "  8: Colorado\n",
            "  9: Connecticut\n",
            "  10: Delaware\n",
            "  11: District of Columbia\n",
            "  12: Florida\n"
          ]
        }
      ]
    },
    {
      "cell_type": "markdown",
      "source": [],
      "metadata": {
        "id": "V21re5obTSh5"
      }
    },
    {
      "cell_type": "markdown",
      "source": [
        "### Example 2: Translating values in your data"
      ],
      "metadata": {
        "id": "GNl8M6BgTppS"
      }
    },
    {
      "cell_type": "code",
      "source": [
        "# Example 2: Translating values in your data\n",
        "# Let's translate some actual STATE values from the dataframe\n",
        "\n",
        "# Get a sample of state values\n",
        "sample_values = bfrss_raw_df['_STATE'].value_counts().head(10)\n",
        "print(\"Top 10 states by number of respondents:\\n\")\n",
        "\n",
        "for value, count in sample_values.items():\n",
        "    # Get the description from value_lookup\n",
        "    description = state_metadata.value_lookup.get(int(value) if not pd.isna(value) else None, \"Unknown\")\n",
        "    print(f\"Code {int(value)}: {description} (Count: {count:,})\")"
      ],
      "metadata": {
        "id": "XxFI_rkHPEge",
        "colab": {
          "base_uri": "https://localhost:8080/"
        },
        "outputId": "efcbb5e5-7b13-42ea-976b-61bea19e5071"
      },
      "execution_count": null,
      "outputs": [
        {
          "output_type": "stream",
          "name": "stdout",
          "text": [
            "Top 10 states by number of respondents:\n",
            "\n",
            "Code 53: Washington (Count: 26,444)\n",
            "Code 36: New York (Count: 17,349)\n",
            "Code 24: Maryland (Count: 17,255)\n",
            "Code 27: Minnesota (Count: 16,170)\n",
            "Code 39: Ohio (Count: 13,384)\n",
            "Code 12: Florida (Count: 13,255)\n",
            "Code 31: Nebraska (Count: 12,886)\n",
            "Code 55: Wisconsin (Count: 12,819)\n",
            "Code 23: Maine (Count: 12,255)\n",
            "Code 4: Arizona (Count: 12,036)\n"
          ]
        }
      ]
    },
    {
      "cell_type": "markdown",
      "source": [
        "### Example 3: Creating a mapping function for easy translation"
      ],
      "metadata": {
        "id": "CZ2PT79QTvWq"
      }
    },
    {
      "cell_type": "code",
      "source": [
        "# Example 3: Creating a mapping function for easy translation\n",
        "def translate_column_values(df, column_name, metadata_dict):\n",
        "    \"\"\"\n",
        "    Translate numeric codes to descriptions for a specific column.\n",
        "\n",
        "    Args:\n",
        "        df: The dataframe containing the data\n",
        "        column_name: Name of the column to translate\n",
        "        metadata_dict: Dictionary of column metadata\n",
        "\n",
        "    Returns:\n",
        "        Pandas Series with translated values\n",
        "    \"\"\"\n",
        "    if column_name not in metadata_dict:\n",
        "        print(f\"No metadata found for column: {column_name}\")\n",
        "        return df[column_name]\n",
        "\n",
        "    metadata = metadata_dict[column_name]\n",
        "\n",
        "    # Create translation function\n",
        "    def translate(value):\n",
        "        if pd.isna(value):\n",
        "            return \"Missing\"\n",
        "        return metadata.value_lookup.get(int(value), f\"Unknown code: {value}\")\n",
        "\n",
        "    return df[column_name].apply(translate)\n",
        "\n",
        "# Example usage - translate STATE codes\n",
        "bfrss_raw_df['STATE_NAME'] = translate_column_values(bfrss_raw_df, '_STATE', bfrss_metadata)\n",
        "\n",
        "# Show sample\n",
        "print(\"Sample of translated state values:\")\n",
        "print(bfrss_raw_df[['_STATE', 'STATE_NAME']].head(10))"
      ],
      "metadata": {
        "id": "3g1Yxo9qO7Jt",
        "colab": {
          "base_uri": "https://localhost:8080/"
        },
        "outputId": "8c7dfa27-d6bf-4b94-c09b-c55a5318a60c"
      },
      "execution_count": null,
      "outputs": [
        {
          "output_type": "stream",
          "name": "stdout",
          "text": [
            "Sample of translated state values:\n",
            "   _STATE STATE_NAME\n",
            "0     1.0    Alabama\n",
            "1     1.0    Alabama\n",
            "2     1.0    Alabama\n",
            "3     1.0    Alabama\n",
            "4     1.0    Alabama\n",
            "5     1.0    Alabama\n",
            "6     1.0    Alabama\n",
            "7     1.0    Alabama\n",
            "8     1.0    Alabama\n",
            "9     1.0    Alabama\n"
          ]
        }
      ]
    },
    {
      "cell_type": "markdown",
      "source": [
        "### Example 4: Working with columns that have ranges"
      ],
      "metadata": {
        "id": "AAj4ILpoTzGG"
      }
    },
    {
      "cell_type": "code",
      "source": [
        "# Example 4: Working with columns that have ranges\n",
        "# Now let's test with POORHLTH which has a range value \"1 - 30\"\n",
        "poorhlth_metadata = bfrss_metadata['POORHLTH']\n",
        "print(f\"Column: {poorhlth_metadata.sas_variable_name}\")\n",
        "print(f\"Label: {poorhlth_metadata.label}\")\n",
        "\n",
        "# Check if the range was properly expanded\n",
        "print(f\"\\nTotal value mappings: {len(poorhlth_metadata.value_lookup)}\")\n",
        "print(\"\\nSample mappings:\")\n",
        "# Show some specific values to verify range expansion\n",
        "for value in [1, 15, 30, 77, 88, 99]:\n",
        "    if value in poorhlth_metadata.value_lookup:\n",
        "        print(f\"  {value}: {poorhlth_metadata.value_lookup[value]}\")"
      ],
      "metadata": {
        "id": "z3GMA7-BPWDz",
        "colab": {
          "base_uri": "https://localhost:8080/"
        },
        "outputId": "dd987086-d5d6-4b77-f799-26b81dd6357b"
      },
      "execution_count": null,
      "outputs": [
        {
          "output_type": "stream",
          "name": "stdout",
          "text": [
            "Column: POORHLTH\n",
            "Label: Poor Physical or Mental Health\n",
            "\n",
            "Total value mappings: 34\n",
            "\n",
            "Sample mappings:\n",
            "  1: Number of daysNotes: _ _ Number of days\n",
            "  15: Number of daysNotes: _ _ Number of days\n",
            "  30: Number of daysNotes: _ _ Number of days\n",
            "  77: Don't know/Not sure\n",
            "  88: None\n",
            "  99: Refused\n"
          ]
        }
      ]
    },
    {
      "cell_type": "markdown",
      "source": [
        "### Example 5: Batch translation of multiple columns"
      ],
      "metadata": {
        "id": "pEdPwWOXT9sX"
      }
    },
    {
      "cell_type": "code",
      "source": [
        "# Example 5: Batch translation of multiple columns\n",
        "# This example shows how to efficiently translate multiple columns at once\n",
        "\n",
        "def batch_translate_columns(df, column_list, metadata_dict):\n",
        "    \"\"\"\n",
        "    Translate multiple columns from numeric codes to descriptions.\n",
        "\n",
        "    Args:\n",
        "        df: The dataframe containing the data\n",
        "        column_list: List of column names to translate\n",
        "        metadata_dict: Dictionary of column metadata\n",
        "\n",
        "    Returns:\n",
        "        Dictionary of translated series\n",
        "    \"\"\"\n",
        "    translated = {}\n",
        "\n",
        "    for col in column_list:\n",
        "        if col in metadata_dict and col in df.columns:\n",
        "            translated[f\"{col}_DESC\"] = translate_column_values(df, col, metadata_dict)\n",
        "            print(f\"Translated {col}\")\n",
        "        else:\n",
        "            print(f\"Skipped {col} (not found in metadata or dataframe)\")\n",
        "\n",
        "    return translated\n",
        "\n",
        "# Translate several categorical columns\n",
        "columns_to_translate = ['_STATE', 'FMONTH', 'DISPCODE', 'SEX1']\n",
        "translations = batch_translate_columns(bfrss_raw_df, columns_to_translate, bfrss_metadata)\n",
        "\n",
        "# Add translations to dataframe\n",
        "for col_name, translated_series in translations.items():\n",
        "    bfrss_raw_df[col_name] = translated_series\n",
        "\n",
        "# Show sample of multiple translations\n",
        "print(\"\\nSample of translated data:\")\n",
        "original_cols = columns_to_translate[:3]  # Show first 3\n",
        "desc_cols = [f\"{col}_DESC\" for col in original_cols]\n",
        "print(bfrss_raw_df[original_cols + desc_cols].head())"
      ],
      "metadata": {
        "id": "G-WvLDeMPiXj",
        "colab": {
          "base_uri": "https://localhost:8080/"
        },
        "outputId": "08cd9741-0f36-4eab-f234-73a52a754fe0"
      },
      "execution_count": null,
      "outputs": [
        {
          "output_type": "stream",
          "name": "stdout",
          "text": [
            "Translated _STATE\n",
            "Translated FMONTH\n",
            "Translated DISPCODE\n",
            "Skipped SEX1 (not found in metadata or dataframe)\n",
            "\n",
            "Sample of translated data:\n",
            "   _STATE  FMONTH  DISPCODE _STATE_DESC FMONTH_DESC        DISPCODE_DESC\n",
            "0     1.0     1.0    1100.0     Alabama     January  Completed Interview\n",
            "1     1.0     1.0    1100.0     Alabama     January  Completed Interview\n",
            "2     1.0     1.0    1100.0     Alabama     January  Completed Interview\n",
            "3     1.0     1.0    1100.0     Alabama     January  Completed Interview\n",
            "4     1.0     1.0    1100.0     Alabama     January  Completed Interview\n"
          ]
        }
      ]
    },
    {
      "cell_type": "markdown",
      "source": [
        "### Example 6: Getting columns by Section Name"
      ],
      "metadata": {
        "id": "KjzzVNlTT_71"
      }
    },
    {
      "cell_type": "code",
      "source": [
        "# Simple example: Get all column names for 'Calculated Variables' section\n",
        "calculated_columns = [col for col, meta in bfrss_metadata.items()\n",
        "                     if meta.section_name == 'Calculated Variables']\n",
        "\n",
        "print(f\"Columns in 'Calculated Variables' section: {len(calculated_columns)}\")\n",
        "print(f\"\\nColumn names: {calculated_columns}\")"
      ],
      "metadata": {
        "id": "Degwj_IgbGK7",
        "colab": {
          "base_uri": "https://localhost:8080/"
        },
        "outputId": "0e6a755b-9805-4baa-a671-a11a0585795e"
      },
      "execution_count": null,
      "outputs": [
        {
          "output_type": "stream",
          "name": "stdout",
          "text": [
            "Columns in 'Calculated Variables' section: 70\n",
            "\n",
            "Column names: ['_RFHLTH', '_PHYS14D', '_MENT14D', '_HLTHPL1', '_HCVU653', '_TOTINDA', 'METVL12_', 'METVL22_', 'MAXVO21_', 'FC601_', 'ACTIN13_', 'ACTIN23_', 'PADUR1_', 'PADUR2_', 'PAFREQ1_', 'PAFREQ2_', '_MINAC12', '_MINAC22', 'STRFREQ_', 'PAMISS3_', 'PAMIN13_', 'PAMIN23_', 'PA3MIN_', 'PAVIG13_', 'PAVIG23_', 'PA3VIGM_', '_PACAT3', '_PAINDX3', '_PA150R4', '_PA300R4', '_PA30023', '_PASTRNG', '_PAREC3', '_PASTAE3', '_RFHYPE6', '_CHOLCH3', '_RFCHOL3', '_MICHD', '_LTASTH1', '_CASTHM1', '_ASTHMS1', '_DRDXAR2', '_SEX', '_AGEG5YR', '_AGE65YR', '_AGE80', '_AGE_G', 'HTIN4', 'HTM4', 'WTKG3', '_BMI5', '_BMI5CAT', '_RFBMI5', '_CHLDCNT', '_EDUCAG', '_INCOMG1', '_SMOKER3', '_RFSMOK3', '_CURECI2', 'DRNKANY6', 'DROCDY4_', '_RFBING6', '_DRNKWK2', '_RFDRHV8', '_FLSHOT7', '_PNEUMO3', '_AIDTST4', '_RFSEAT2', '_RFSEAT3', '_DRNKDRV']\n"
          ]
        }
      ]
    },
    {
      "cell_type": "code",
      "source": [],
      "metadata": {
        "id": "GjWCW3A2hTPr"
      },
      "execution_count": null,
      "outputs": []
    },
    {
      "cell_type": "markdown",
      "source": [
        "# Kelly Scratch\n",
        "\n",
        "- making own copies of data for experimentation: k_df, k_metadata\n"
      ],
      "metadata": {
        "id": "mMTzF2nXbXaL"
      }
    },
    {
      "cell_type": "markdown",
      "source": [],
      "metadata": {
        "id": "agXugo3khXu5"
      }
    },
    {
      "cell_type": "code",
      "source": [
        "k_df = bfrss_raw_df.copy()\n",
        "k_metadata = bfrss_metadata.copy()\n",
        "\n",
        "# Metadata Tests\n",
        "##\n",
        "index = [column for column in k_metadata.keys()]\n",
        "columns = [column for column in k_metadata[index[0]].model_dump().keys()]\n",
        "data = []\n",
        "for metadata in k_metadata.values():\n",
        "    entry = []\n",
        "    for column in columns:\n",
        "        entry.append(metadata.model_dump()[column])\n",
        "    data.append(entry)\n",
        "\n",
        "k_m_df = pd.DataFrame(index=index, columns=columns)\n",
        "k_m_df.info()"
      ],
      "metadata": {
        "id": "yW4EYaNthYdj",
        "colab": {
          "base_uri": "https://localhost:8080/"
        },
        "outputId": "9c0639f1-8cf6-45ed-e8fc-574c55bece7a"
      },
      "execution_count": null,
      "outputs": [
        {
          "output_type": "stream",
          "name": "stdout",
          "text": [
            "<class 'pandas.core.frame.DataFrame'>\n",
            "Index: 344 entries, _STATE to _DRNKDRV\n",
            "Data columns (total 12 columns):\n",
            " #   Column             Non-Null Count  Dtype \n",
            "---  ------             --------------  ----- \n",
            " 0   computed           0 non-null      object\n",
            " 1   label              0 non-null      object\n",
            " 2   sas_variable_name  0 non-null      object\n",
            " 3   section_name       0 non-null      object\n",
            " 4   section_number     0 non-null      object\n",
            " 5   module_number      0 non-null      object\n",
            " 6   question_number    0 non-null      object\n",
            " 7   column             0 non-null      object\n",
            " 8   type_of_variable   0 non-null      object\n",
            " 9   question_prologue  0 non-null      object\n",
            " 10  question           0 non-null      object\n",
            " 11  value_lookup       0 non-null      object\n",
            "dtypes: object(12)\n",
            "memory usage: 34.9+ KB\n"
          ]
        }
      ]
    },
    {
      "cell_type": "code",
      "source": [
        "k_m_df.head(100)"
      ],
      "metadata": {
        "id": "NpvsKXD5pWKQ",
        "colab": {
          "base_uri": "https://localhost:8080/",
          "height": 419
        },
        "outputId": "22dfad78-a23c-4a96-fc13-a236d3f2c3ce"
      },
      "execution_count": null,
      "outputs": [
        {
          "output_type": "execute_result",
          "data": {
            "text/plain": [
              "         computed label sas_variable_name section_name section_number  \\\n",
              "_STATE        NaN   NaN               NaN          NaN            NaN   \n",
              "FMONTH        NaN   NaN               NaN          NaN            NaN   \n",
              "IDATE         NaN   NaN               NaN          NaN            NaN   \n",
              "IMONTH        NaN   NaN               NaN          NaN            NaN   \n",
              "IDAY          NaN   NaN               NaN          NaN            NaN   \n",
              "...           ...   ...               ...          ...            ...   \n",
              "SHINGLE2      NaN   NaN               NaN          NaN            NaN   \n",
              "HIVTST7       NaN   NaN               NaN          NaN            NaN   \n",
              "HIVTSTD3      NaN   NaN               NaN          NaN            NaN   \n",
              "SEATBELT      NaN   NaN               NaN          NaN            NaN   \n",
              "DRNKDRI2      NaN   NaN               NaN          NaN            NaN   \n",
              "\n",
              "         module_number question_number column type_of_variable  \\\n",
              "_STATE             NaN             NaN    NaN              NaN   \n",
              "FMONTH             NaN             NaN    NaN              NaN   \n",
              "IDATE              NaN             NaN    NaN              NaN   \n",
              "IMONTH             NaN             NaN    NaN              NaN   \n",
              "IDAY               NaN             NaN    NaN              NaN   \n",
              "...                ...             ...    ...              ...   \n",
              "SHINGLE2           NaN             NaN    NaN              NaN   \n",
              "HIVTST7            NaN             NaN    NaN              NaN   \n",
              "HIVTSTD3           NaN             NaN    NaN              NaN   \n",
              "SEATBELT           NaN             NaN    NaN              NaN   \n",
              "DRNKDRI2           NaN             NaN    NaN              NaN   \n",
              "\n",
              "         question_prologue question value_lookup  \n",
              "_STATE                 NaN      NaN          NaN  \n",
              "FMONTH                 NaN      NaN          NaN  \n",
              "IDATE                  NaN      NaN          NaN  \n",
              "IMONTH                 NaN      NaN          NaN  \n",
              "IDAY                   NaN      NaN          NaN  \n",
              "...                    ...      ...          ...  \n",
              "SHINGLE2               NaN      NaN          NaN  \n",
              "HIVTST7                NaN      NaN          NaN  \n",
              "HIVTSTD3               NaN      NaN          NaN  \n",
              "SEATBELT               NaN      NaN          NaN  \n",
              "DRNKDRI2               NaN      NaN          NaN  \n",
              "\n",
              "[100 rows x 12 columns]"
            ],
            "text/html": [
              "\n",
              "  <div id=\"df-fc9cccd8-b0c1-4392-b21a-f4bd040844fb\" class=\"colab-df-container\">\n",
              "    <div>\n",
              "<style scoped>\n",
              "    .dataframe tbody tr th:only-of-type {\n",
              "        vertical-align: middle;\n",
              "    }\n",
              "\n",
              "    .dataframe tbody tr th {\n",
              "        vertical-align: top;\n",
              "    }\n",
              "\n",
              "    .dataframe thead th {\n",
              "        text-align: right;\n",
              "    }\n",
              "</style>\n",
              "<table border=\"1\" class=\"dataframe\">\n",
              "  <thead>\n",
              "    <tr style=\"text-align: right;\">\n",
              "      <th></th>\n",
              "      <th>computed</th>\n",
              "      <th>label</th>\n",
              "      <th>sas_variable_name</th>\n",
              "      <th>section_name</th>\n",
              "      <th>section_number</th>\n",
              "      <th>module_number</th>\n",
              "      <th>question_number</th>\n",
              "      <th>column</th>\n",
              "      <th>type_of_variable</th>\n",
              "      <th>question_prologue</th>\n",
              "      <th>question</th>\n",
              "      <th>value_lookup</th>\n",
              "    </tr>\n",
              "  </thead>\n",
              "  <tbody>\n",
              "    <tr>\n",
              "      <th>_STATE</th>\n",
              "      <td>NaN</td>\n",
              "      <td>NaN</td>\n",
              "      <td>NaN</td>\n",
              "      <td>NaN</td>\n",
              "      <td>NaN</td>\n",
              "      <td>NaN</td>\n",
              "      <td>NaN</td>\n",
              "      <td>NaN</td>\n",
              "      <td>NaN</td>\n",
              "      <td>NaN</td>\n",
              "      <td>NaN</td>\n",
              "      <td>NaN</td>\n",
              "    </tr>\n",
              "    <tr>\n",
              "      <th>FMONTH</th>\n",
              "      <td>NaN</td>\n",
              "      <td>NaN</td>\n",
              "      <td>NaN</td>\n",
              "      <td>NaN</td>\n",
              "      <td>NaN</td>\n",
              "      <td>NaN</td>\n",
              "      <td>NaN</td>\n",
              "      <td>NaN</td>\n",
              "      <td>NaN</td>\n",
              "      <td>NaN</td>\n",
              "      <td>NaN</td>\n",
              "      <td>NaN</td>\n",
              "    </tr>\n",
              "    <tr>\n",
              "      <th>IDATE</th>\n",
              "      <td>NaN</td>\n",
              "      <td>NaN</td>\n",
              "      <td>NaN</td>\n",
              "      <td>NaN</td>\n",
              "      <td>NaN</td>\n",
              "      <td>NaN</td>\n",
              "      <td>NaN</td>\n",
              "      <td>NaN</td>\n",
              "      <td>NaN</td>\n",
              "      <td>NaN</td>\n",
              "      <td>NaN</td>\n",
              "      <td>NaN</td>\n",
              "    </tr>\n",
              "    <tr>\n",
              "      <th>IMONTH</th>\n",
              "      <td>NaN</td>\n",
              "      <td>NaN</td>\n",
              "      <td>NaN</td>\n",
              "      <td>NaN</td>\n",
              "      <td>NaN</td>\n",
              "      <td>NaN</td>\n",
              "      <td>NaN</td>\n",
              "      <td>NaN</td>\n",
              "      <td>NaN</td>\n",
              "      <td>NaN</td>\n",
              "      <td>NaN</td>\n",
              "      <td>NaN</td>\n",
              "    </tr>\n",
              "    <tr>\n",
              "      <th>IDAY</th>\n",
              "      <td>NaN</td>\n",
              "      <td>NaN</td>\n",
              "      <td>NaN</td>\n",
              "      <td>NaN</td>\n",
              "      <td>NaN</td>\n",
              "      <td>NaN</td>\n",
              "      <td>NaN</td>\n",
              "      <td>NaN</td>\n",
              "      <td>NaN</td>\n",
              "      <td>NaN</td>\n",
              "      <td>NaN</td>\n",
              "      <td>NaN</td>\n",
              "    </tr>\n",
              "    <tr>\n",
              "      <th>...</th>\n",
              "      <td>...</td>\n",
              "      <td>...</td>\n",
              "      <td>...</td>\n",
              "      <td>...</td>\n",
              "      <td>...</td>\n",
              "      <td>...</td>\n",
              "      <td>...</td>\n",
              "      <td>...</td>\n",
              "      <td>...</td>\n",
              "      <td>...</td>\n",
              "      <td>...</td>\n",
              "      <td>...</td>\n",
              "    </tr>\n",
              "    <tr>\n",
              "      <th>SHINGLE2</th>\n",
              "      <td>NaN</td>\n",
              "      <td>NaN</td>\n",
              "      <td>NaN</td>\n",
              "      <td>NaN</td>\n",
              "      <td>NaN</td>\n",
              "      <td>NaN</td>\n",
              "      <td>NaN</td>\n",
              "      <td>NaN</td>\n",
              "      <td>NaN</td>\n",
              "      <td>NaN</td>\n",
              "      <td>NaN</td>\n",
              "      <td>NaN</td>\n",
              "    </tr>\n",
              "    <tr>\n",
              "      <th>HIVTST7</th>\n",
              "      <td>NaN</td>\n",
              "      <td>NaN</td>\n",
              "      <td>NaN</td>\n",
              "      <td>NaN</td>\n",
              "      <td>NaN</td>\n",
              "      <td>NaN</td>\n",
              "      <td>NaN</td>\n",
              "      <td>NaN</td>\n",
              "      <td>NaN</td>\n",
              "      <td>NaN</td>\n",
              "      <td>NaN</td>\n",
              "      <td>NaN</td>\n",
              "    </tr>\n",
              "    <tr>\n",
              "      <th>HIVTSTD3</th>\n",
              "      <td>NaN</td>\n",
              "      <td>NaN</td>\n",
              "      <td>NaN</td>\n",
              "      <td>NaN</td>\n",
              "      <td>NaN</td>\n",
              "      <td>NaN</td>\n",
              "      <td>NaN</td>\n",
              "      <td>NaN</td>\n",
              "      <td>NaN</td>\n",
              "      <td>NaN</td>\n",
              "      <td>NaN</td>\n",
              "      <td>NaN</td>\n",
              "    </tr>\n",
              "    <tr>\n",
              "      <th>SEATBELT</th>\n",
              "      <td>NaN</td>\n",
              "      <td>NaN</td>\n",
              "      <td>NaN</td>\n",
              "      <td>NaN</td>\n",
              "      <td>NaN</td>\n",
              "      <td>NaN</td>\n",
              "      <td>NaN</td>\n",
              "      <td>NaN</td>\n",
              "      <td>NaN</td>\n",
              "      <td>NaN</td>\n",
              "      <td>NaN</td>\n",
              "      <td>NaN</td>\n",
              "    </tr>\n",
              "    <tr>\n",
              "      <th>DRNKDRI2</th>\n",
              "      <td>NaN</td>\n",
              "      <td>NaN</td>\n",
              "      <td>NaN</td>\n",
              "      <td>NaN</td>\n",
              "      <td>NaN</td>\n",
              "      <td>NaN</td>\n",
              "      <td>NaN</td>\n",
              "      <td>NaN</td>\n",
              "      <td>NaN</td>\n",
              "      <td>NaN</td>\n",
              "      <td>NaN</td>\n",
              "      <td>NaN</td>\n",
              "    </tr>\n",
              "  </tbody>\n",
              "</table>\n",
              "<p>100 rows × 12 columns</p>\n",
              "</div>\n",
              "    <div class=\"colab-df-buttons\">\n",
              "\n",
              "  <div class=\"colab-df-container\">\n",
              "    <button class=\"colab-df-convert\" onclick=\"convertToInteractive('df-fc9cccd8-b0c1-4392-b21a-f4bd040844fb')\"\n",
              "            title=\"Convert this dataframe to an interactive table.\"\n",
              "            style=\"display:none;\">\n",
              "\n",
              "  <svg xmlns=\"http://www.w3.org/2000/svg\" height=\"24px\" viewBox=\"0 -960 960 960\">\n",
              "    <path d=\"M120-120v-720h720v720H120Zm60-500h600v-160H180v160Zm220 220h160v-160H400v160Zm0 220h160v-160H400v160ZM180-400h160v-160H180v160Zm440 0h160v-160H620v160ZM180-180h160v-160H180v160Zm440 0h160v-160H620v160Z\"/>\n",
              "  </svg>\n",
              "    </button>\n",
              "\n",
              "  <style>\n",
              "    .colab-df-container {\n",
              "      display:flex;\n",
              "      gap: 12px;\n",
              "    }\n",
              "\n",
              "    .colab-df-convert {\n",
              "      background-color: #E8F0FE;\n",
              "      border: none;\n",
              "      border-radius: 50%;\n",
              "      cursor: pointer;\n",
              "      display: none;\n",
              "      fill: #1967D2;\n",
              "      height: 32px;\n",
              "      padding: 0 0 0 0;\n",
              "      width: 32px;\n",
              "    }\n",
              "\n",
              "    .colab-df-convert:hover {\n",
              "      background-color: #E2EBFA;\n",
              "      box-shadow: 0px 1px 2px rgba(60, 64, 67, 0.3), 0px 1px 3px 1px rgba(60, 64, 67, 0.15);\n",
              "      fill: #174EA6;\n",
              "    }\n",
              "\n",
              "    .colab-df-buttons div {\n",
              "      margin-bottom: 4px;\n",
              "    }\n",
              "\n",
              "    [theme=dark] .colab-df-convert {\n",
              "      background-color: #3B4455;\n",
              "      fill: #D2E3FC;\n",
              "    }\n",
              "\n",
              "    [theme=dark] .colab-df-convert:hover {\n",
              "      background-color: #434B5C;\n",
              "      box-shadow: 0px 1px 3px 1px rgba(0, 0, 0, 0.15);\n",
              "      filter: drop-shadow(0px 1px 2px rgba(0, 0, 0, 0.3));\n",
              "      fill: #FFFFFF;\n",
              "    }\n",
              "  </style>\n",
              "\n",
              "    <script>\n",
              "      const buttonEl =\n",
              "        document.querySelector('#df-fc9cccd8-b0c1-4392-b21a-f4bd040844fb button.colab-df-convert');\n",
              "      buttonEl.style.display =\n",
              "        google.colab.kernel.accessAllowed ? 'block' : 'none';\n",
              "\n",
              "      async function convertToInteractive(key) {\n",
              "        const element = document.querySelector('#df-fc9cccd8-b0c1-4392-b21a-f4bd040844fb');\n",
              "        const dataTable =\n",
              "          await google.colab.kernel.invokeFunction('convertToInteractive',\n",
              "                                                    [key], {});\n",
              "        if (!dataTable) return;\n",
              "\n",
              "        const docLinkHtml = 'Like what you see? Visit the ' +\n",
              "          '<a target=\"_blank\" href=https://colab.research.google.com/notebooks/data_table.ipynb>data table notebook</a>'\n",
              "          + ' to learn more about interactive tables.';\n",
              "        element.innerHTML = '';\n",
              "        dataTable['output_type'] = 'display_data';\n",
              "        await google.colab.output.renderOutput(dataTable, element);\n",
              "        const docLink = document.createElement('div');\n",
              "        docLink.innerHTML = docLinkHtml;\n",
              "        element.appendChild(docLink);\n",
              "      }\n",
              "    </script>\n",
              "  </div>\n",
              "\n",
              "\n",
              "    <div id=\"df-9f8ac6a4-0aa8-4138-abb3-3b9347c467c1\">\n",
              "      <button class=\"colab-df-quickchart\" onclick=\"quickchart('df-9f8ac6a4-0aa8-4138-abb3-3b9347c467c1')\"\n",
              "                title=\"Suggest charts\"\n",
              "                style=\"display:none;\">\n",
              "\n",
              "<svg xmlns=\"http://www.w3.org/2000/svg\" height=\"24px\"viewBox=\"0 0 24 24\"\n",
              "     width=\"24px\">\n",
              "    <g>\n",
              "        <path d=\"M19 3H5c-1.1 0-2 .9-2 2v14c0 1.1.9 2 2 2h14c1.1 0 2-.9 2-2V5c0-1.1-.9-2-2-2zM9 17H7v-7h2v7zm4 0h-2V7h2v10zm4 0h-2v-4h2v4z\"/>\n",
              "    </g>\n",
              "</svg>\n",
              "      </button>\n",
              "\n",
              "<style>\n",
              "  .colab-df-quickchart {\n",
              "      --bg-color: #E8F0FE;\n",
              "      --fill-color: #1967D2;\n",
              "      --hover-bg-color: #E2EBFA;\n",
              "      --hover-fill-color: #174EA6;\n",
              "      --disabled-fill-color: #AAA;\n",
              "      --disabled-bg-color: #DDD;\n",
              "  }\n",
              "\n",
              "  [theme=dark] .colab-df-quickchart {\n",
              "      --bg-color: #3B4455;\n",
              "      --fill-color: #D2E3FC;\n",
              "      --hover-bg-color: #434B5C;\n",
              "      --hover-fill-color: #FFFFFF;\n",
              "      --disabled-bg-color: #3B4455;\n",
              "      --disabled-fill-color: #666;\n",
              "  }\n",
              "\n",
              "  .colab-df-quickchart {\n",
              "    background-color: var(--bg-color);\n",
              "    border: none;\n",
              "    border-radius: 50%;\n",
              "    cursor: pointer;\n",
              "    display: none;\n",
              "    fill: var(--fill-color);\n",
              "    height: 32px;\n",
              "    padding: 0;\n",
              "    width: 32px;\n",
              "  }\n",
              "\n",
              "  .colab-df-quickchart:hover {\n",
              "    background-color: var(--hover-bg-color);\n",
              "    box-shadow: 0 1px 2px rgba(60, 64, 67, 0.3), 0 1px 3px 1px rgba(60, 64, 67, 0.15);\n",
              "    fill: var(--button-hover-fill-color);\n",
              "  }\n",
              "\n",
              "  .colab-df-quickchart-complete:disabled,\n",
              "  .colab-df-quickchart-complete:disabled:hover {\n",
              "    background-color: var(--disabled-bg-color);\n",
              "    fill: var(--disabled-fill-color);\n",
              "    box-shadow: none;\n",
              "  }\n",
              "\n",
              "  .colab-df-spinner {\n",
              "    border: 2px solid var(--fill-color);\n",
              "    border-color: transparent;\n",
              "    border-bottom-color: var(--fill-color);\n",
              "    animation:\n",
              "      spin 1s steps(1) infinite;\n",
              "  }\n",
              "\n",
              "  @keyframes spin {\n",
              "    0% {\n",
              "      border-color: transparent;\n",
              "      border-bottom-color: var(--fill-color);\n",
              "      border-left-color: var(--fill-color);\n",
              "    }\n",
              "    20% {\n",
              "      border-color: transparent;\n",
              "      border-left-color: var(--fill-color);\n",
              "      border-top-color: var(--fill-color);\n",
              "    }\n",
              "    30% {\n",
              "      border-color: transparent;\n",
              "      border-left-color: var(--fill-color);\n",
              "      border-top-color: var(--fill-color);\n",
              "      border-right-color: var(--fill-color);\n",
              "    }\n",
              "    40% {\n",
              "      border-color: transparent;\n",
              "      border-right-color: var(--fill-color);\n",
              "      border-top-color: var(--fill-color);\n",
              "    }\n",
              "    60% {\n",
              "      border-color: transparent;\n",
              "      border-right-color: var(--fill-color);\n",
              "    }\n",
              "    80% {\n",
              "      border-color: transparent;\n",
              "      border-right-color: var(--fill-color);\n",
              "      border-bottom-color: var(--fill-color);\n",
              "    }\n",
              "    90% {\n",
              "      border-color: transparent;\n",
              "      border-bottom-color: var(--fill-color);\n",
              "    }\n",
              "  }\n",
              "</style>\n",
              "\n",
              "      <script>\n",
              "        async function quickchart(key) {\n",
              "          const quickchartButtonEl =\n",
              "            document.querySelector('#' + key + ' button');\n",
              "          quickchartButtonEl.disabled = true;  // To prevent multiple clicks.\n",
              "          quickchartButtonEl.classList.add('colab-df-spinner');\n",
              "          try {\n",
              "            const charts = await google.colab.kernel.invokeFunction(\n",
              "                'suggestCharts', [key], {});\n",
              "          } catch (error) {\n",
              "            console.error('Error during call to suggestCharts:', error);\n",
              "          }\n",
              "          quickchartButtonEl.classList.remove('colab-df-spinner');\n",
              "          quickchartButtonEl.classList.add('colab-df-quickchart-complete');\n",
              "        }\n",
              "        (() => {\n",
              "          let quickchartButtonEl =\n",
              "            document.querySelector('#df-9f8ac6a4-0aa8-4138-abb3-3b9347c467c1 button');\n",
              "          quickchartButtonEl.style.display =\n",
              "            google.colab.kernel.accessAllowed ? 'block' : 'none';\n",
              "        })();\n",
              "      </script>\n",
              "    </div>\n",
              "\n",
              "    </div>\n",
              "  </div>\n"
            ],
            "application/vnd.google.colaboratory.intrinsic+json": {
              "type": "dataframe",
              "variable_name": "k_m_df",
              "repr_error": "Out of range float values are not JSON compliant: nan"
            }
          },
          "metadata": {},
          "execution_count": 7
        }
      ]
    },
    {
      "cell_type": "markdown",
      "source": [
        "Jaime - RQ3"
      ],
      "metadata": {
        "id": "6F0DI8sWUZK4"
      }
    },
    {
      "cell_type": "code",
      "source": [
        "j_df = bfrss_raw_df.copy()\n",
        "j_metadata = bfrss_metadata.copy()\n",
        "\n",
        "print(j_df.head())"
      ],
      "metadata": {
        "colab": {
          "base_uri": "https://localhost:8080/"
        },
        "id": "ZSw3BsGsUY1b",
        "outputId": "06dc04ac-ebbc-4d49-8d1a-77d13f5482d7"
      },
      "execution_count": null,
      "outputs": [
        {
          "output_type": "stream",
          "name": "stdout",
          "text": [
            "   _STATE  FMONTH     IDATE IMONTH IDAY IYEAR  DISPCODE       SEQNO  \\\n",
            "0     1.0     1.0  03012023     03   01  2023    1100.0  2023000001   \n",
            "1     1.0     1.0  01062023     01   06  2023    1100.0  2023000002   \n",
            "2     1.0     1.0  03082023     03   08  2023    1100.0  2023000003   \n",
            "3     1.0     1.0  03062023     03   06  2023    1100.0  2023000004   \n",
            "4     1.0     1.0  01062023     01   06  2023    1100.0  2023000005   \n",
            "\n",
            "           _PSU  CTELENM1  ...  DROCDY4_  _RFBING6  _DRNKWK2  _RFDRHV8  \\\n",
            "0  2.023000e+09       1.0  ...       0.0       1.0       0.0       1.0   \n",
            "1  2.023000e+09       1.0  ...       0.0       1.0       0.0       1.0   \n",
            "2  2.023000e+09       1.0  ...       0.0       1.0       0.0       1.0   \n",
            "3  2.023000e+09       1.0  ...       0.0       1.0       0.0       1.0   \n",
            "4  2.023000e+09       1.0  ...       7.0       1.0      47.0       1.0   \n",
            "\n",
            "   _FLSHOT7  _PNEUMO3  _AIDTST4  _RFSEAT2  _RFSEAT3  _DRNKDRV  \n",
            "0       2.0       2.0       2.0       1.0       1.0       9.0  \n",
            "1       1.0       1.0       2.0       1.0       1.0       9.0  \n",
            "2       1.0       1.0       2.0       1.0       1.0       9.0  \n",
            "3       1.0       1.0       1.0       1.0       1.0       9.0  \n",
            "4       2.0       1.0       2.0       1.0       1.0       2.0  \n",
            "\n",
            "[5 rows x 350 columns]\n"
          ]
        }
      ]
    },
    {
      "cell_type": "code",
      "source": [
        "#Arthritis EDA\n",
        "\n",
        "# Arthritis calculated variable info\n",
        "arthritis_metadata = bfrss_metadata['_DRDXAR2']\n",
        "print(f\"Column: {arthritis_metadata.sas_variable_name}\")\n",
        "print(f\"Label: {arthritis_metadata.label}\")\n",
        "print(f\"Question: {arthritis_metadata.question}\")\n",
        "print(f\"\\nValue mappings:\")\n",
        "# Show arthritis mappings\n",
        "for i, (value, description) in enumerate(arthritis_metadata.value_lookup.items()):\n",
        "    if i < 10:\n",
        "        print(f\"  {value}: {description}\")\n",
        "\n",
        "#Arthritis value counts\n",
        "sample_values = bfrss_raw_df['_DRDXAR2'].value_counts().head(10)\n",
        "print(\"\\nArthritis category counts:\")\n",
        "\n",
        "for value, count in sample_values.items():\n",
        "    # Get the description from value_lookup\n",
        "    description = arthritis_metadata.value_lookup.get(int(value) if not pd.isna(value) else None, \"Unknown\")\n",
        "    print(f\"Code {int(value)}: {description} (Count: {count:,})\")"
      ],
      "metadata": {
        "colab": {
          "base_uri": "https://localhost:8080/"
        },
        "id": "RqKPIy4goosJ",
        "outputId": "aaf19072-d810-4720-e7f9-17397eaa5ac6"
      },
      "execution_count": 17,
      "outputs": [
        {
          "output_type": "stream",
          "name": "stdout",
          "text": [
            "Column: _DRDXAR2\n",
            "Label: Respondents diagnosed with arthritis\n",
            "Question: Respondents who have had a doctor diagnose them as having some form of arthritis\n",
            "\n",
            "Value mappings:\n",
            "  1: Diagnosed with arthritisNotes: HAVARTH4=1\n",
            "  2: Not diagnosed with arthritisNotes: HAVARTH4=2\n",
            "  None: Don't know/Not Sure/Refused/MissingNotes: HAVARTH4=7,9, or missing\n",
            "\n",
            "Arthritis category counts:\n",
            "Code 2: Not diagnosed with arthritisNotes: HAVARTH4=2 (Count: 287,999)\n",
            "Code 1: Diagnosed with arthritisNotes: HAVARTH4=1 (Count: 142,764)\n"
          ]
        }
      ]
    },
    {
      "cell_type": "code",
      "source": [
        "# List of Variable Names in Category: Chronic Health Conditions\n",
        "chronic_health_conditions_columns = [col for col, meta in bfrss_metadata.items()\n",
        "                     if meta.section_name == 'Chronic Health Conditions']\n",
        "\n",
        "print(f\"Columns in 'Chronic Health Conditions' section: {len(chronic_health_conditions_columns)}\")\n",
        "print(f\"\\nColumn names: {chronic_health_conditions_columns}\")"
      ],
      "metadata": {
        "colab": {
          "base_uri": "https://localhost:8080/"
        },
        "id": "y_0BoC_1qz61",
        "outputId": "3f9b0c92-42eb-4405-fbfc-8f80528d6cb5"
      },
      "execution_count": null,
      "outputs": [
        {
          "output_type": "stream",
          "name": "stdout",
          "text": [
            "Columns in 'Chronic Health Conditions' section: 13\n",
            "\n",
            "Column names: ['CVDINFR4', 'CVDCRHD4', 'CVDSTRK3', 'ASTHMA3', 'ASTHNOW', 'CHCSCNC1', 'CHCOCNC1', 'CHCCOPD3', 'ADDEPEV3', 'CHCKDNY2', 'HAVARTH4', 'DIABETE4', 'DIABAGE4']\n"
          ]
        }
      ]
    },
    {
      "cell_type": "code",
      "source": [
        "# List of Variable Names in Category: Demographics\n",
        "demographics_columns = [col for col, meta in bfrss_metadata.items()\n",
        "                        if 'Demographics' in meta.section_name]\n",
        "\n",
        "print(f\"Columns in 'Demographics' section: {len(demographics_columns)}\")\n",
        "print(f\"\\nColumn names: {demographics_columns}\")"
      ],
      "metadata": {
        "colab": {
          "base_uri": "https://localhost:8080/"
        },
        "id": "A43kMuaVrLq3",
        "outputId": "1b3f1f54-f5ca-4242-f6da-29f327591f34"
      },
      "execution_count": null,
      "outputs": [
        {
          "output_type": "stream",
          "name": "stdout",
          "text": [
            "Columns in 'Demographics' section: 13\n",
            "\n",
            "Column names: ['MARITAL', 'EDUCA', 'RENTHOM1', 'NUMHHOL4', 'NUMPHON4', 'CPDEMO1C', 'VETERAN3', 'EMPLOY1', 'CHILDREN', 'INCOME3', 'PREGNANT', 'WEIGHT2', 'HEIGHT3']\n"
          ]
        }
      ]
    },
    {
      "cell_type": "code",
      "source": [
        "# Print column names that contain 'FMONTH'\n",
        "matching_columns = [col for col in bfrss_raw_df.columns if 'FMONTH' in col]\n",
        "print(\"Columns containing 'FMONTH':\", matching_columns)\n",
        "\n",
        "# Optionally: show first few values if column exists\n",
        "if matching_columns:\n",
        "    print(\"\\nSample values:\")\n",
        "    print(bfrss_raw_df[matching_columns].head())\n",
        "\n",
        "\n",
        "\n",
        "# Print column names that contain 'DISPCODE'\n",
        "matching_columns = [col for col in bfrss_raw_df.columns if 'DISPCODE' in col]\n",
        "print(\"Columns containing 'DISPCODE':\", matching_columns)\n",
        "\n",
        "# Optionally: show first few values if column exists\n",
        "if matching_columns:\n",
        "    print(\"\\nSample values:\")\n",
        "    print(bfrss_raw_df[matching_columns].head())\n"
      ],
      "metadata": {
        "colab": {
          "base_uri": "https://localhost:8080/"
        },
        "id": "mLshGINR6cGq",
        "outputId": "8262c1ce-0b74-48d2-8fbe-6916fc012b34"
      },
      "execution_count": null,
      "outputs": [
        {
          "output_type": "stream",
          "name": "stdout",
          "text": [
            "Columns containing 'FMONTH': ['FMONTH']\n",
            "\n",
            "Sample values:\n",
            "   FMONTH\n",
            "0     1.0\n",
            "1     1.0\n",
            "2     1.0\n",
            "3     1.0\n",
            "4     1.0\n",
            "Columns containing 'DISPCODE': ['DISPCODE']\n",
            "\n",
            "Sample values:\n",
            "   DISPCODE\n",
            "0    1100.0\n",
            "1    1100.0\n",
            "2    1100.0\n",
            "3    1100.0\n",
            "4    1100.0\n"
          ]
        }
      ]
    },
    {
      "cell_type": "code",
      "source": [
        "# Demographics EDA\n",
        "\n",
        "# Issue, seems not all calculated variables are mapped, because those with Column name == 'Demographics' is only 13, but contains 'Demographics' is 344. Need to access metadata of calculated variables like _AGE5YR and _MRACE1\n",
        "\n",
        "# Ensure keys in bfrss_metadata are strings, and filter based on section_name\n",
        "demographics_columns = [\n",
        "    col for col, meta in bfrss_metadata.items()\n",
        "    if isinstance(col, str) and hasattr(meta, 'section_name') and 'Demographics' in meta.section_name\n",
        "]\n",
        "\n",
        "print(f\"Columns in 'Demographics' section: {len(demographics_columns)}\")\n",
        "print(f\"\\nColumn names: {demographics_columns}\")\n",
        "\n",
        "# Loop through demographic variables and print metadata\n",
        "for var in demographics_columns:\n",
        "    meta = bfrss_metadata[var]\n",
        "    print(f\"\\n=== Column: {meta.sas_variable_name} ===\")\n",
        "    print(f\"Label: {meta.label}\")\n",
        "    print(f\"Question: {meta.question}\")\n",
        "\n",
        "# Restrict to a specific list of demographic variables (the ones associated with socioeconomic status)\n",
        "demographics_columns = ['EDUCA', 'EMPLOY1', 'INCOME3']\n",
        "\n",
        "# Loop through demographic variables\n",
        "for demographics_variable in demographics_columns:\n",
        "    metadata = bfrss_metadata[demographics_variable]\n",
        "\n",
        "    print(f\"\\n=== Column: {metadata.sas_variable_name} ===\")\n",
        "    print(f\"Label: {metadata.label}\")\n",
        "    print(f\"Question: {metadata.question}\")\n",
        "\n",
        "    print(\"\\nValue mappings:\")\n",
        "    for i, (value, description) in enumerate(metadata.value_lookup.items()):\n",
        "        if i < 10:\n",
        "            print(f\"  {value}: {description}\")\n",
        "\n",
        "    # Demographics_variable value counts\n",
        "    sample_values = bfrss_raw_df[demographics_variable].value_counts().head(10)\n",
        "    print(f\"\\n{metadata.sas_variable_name} category counts:\")\n",
        "\n",
        "    for value, count in sample_values.items():\n",
        "        if pd.notna(value):\n",
        "            try:\n",
        "                lookup_key = int(value)\n",
        "            except ValueError:\n",
        "                lookup_key = value\n",
        "        else:\n",
        "            lookup_key = None\n",
        "\n",
        "        description = metadata.value_lookup.get(lookup_key, \"Unknown\")\n",
        "        print(f\"  Code {value}: {description} (Count: {count:,})\")"
      ],
      "metadata": {
        "colab": {
          "base_uri": "https://localhost:8080/"
        },
        "id": "N_8ypW6Jrosq",
        "outputId": "e3754801-d5e8-49f7-e1d5-7f56288b6553"
      },
      "execution_count": null,
      "outputs": [
        {
          "output_type": "stream",
          "name": "stdout",
          "text": [
            "Columns in 'Demographics' section: 13\n",
            "\n",
            "Column names: ['MARITAL', 'EDUCA', 'RENTHOM1', 'NUMHHOL4', 'NUMPHON4', 'CPDEMO1C', 'VETERAN3', 'EMPLOY1', 'CHILDREN', 'INCOME3', 'PREGNANT', 'WEIGHT2', 'HEIGHT3']\n",
            "\n",
            "=== Column: MARITAL ===\n",
            "Label: Marital Status\n",
            "Question: Are you: (marital status)\n",
            "\n",
            "=== Column: EDUCA ===\n",
            "Label: Education Level\n",
            "Question: What is the highest grade or year of school you completed?\n",
            "\n",
            "=== Column: RENTHOM1 ===\n",
            "Label: Own or Rent Home\n",
            "Question: Do you own or rent your home?\n",
            "\n",
            "=== Column: NUMHHOL4 ===\n",
            "Label: Household Landline Telephones\n",
            "Question: Not including cell phones or numbers used for computers, fax machines or security systems, do you have more than one landline telephone number in your household?\n",
            "\n",
            "=== Column: NUMPHON4 ===\n",
            "Label: Residential Landline Phones\n",
            "Question: How many of these landline telephone numbers are residential numbers?\n",
            "\n",
            "=== Column: CPDEMO1C ===\n",
            "Label: Do you have a cell phone for your personal use?\n",
            "Question: How many cell phones do you have for your personal use?  (Last question needed for partial complete.)\n",
            "\n",
            "=== Column: VETERAN3 ===\n",
            "Label: Are You A Veteran\n",
            "Question: Have you ever served on active duty in the United States Armed Forces, either in the regular military or in a National Guard or military reserve unit?\n",
            "\n",
            "=== Column: EMPLOY1 ===\n",
            "Label: Employment Status\n",
            "Question: Are you currently?\n",
            "\n",
            "=== Column: CHILDREN ===\n",
            "Label: Number of Children in Household\n",
            "Question: How many children less than 18 years of age live in your household?\n",
            "\n",
            "=== Column: INCOME3 ===\n",
            "Label: Income Level\n",
            "Question: Is your annual household income from all sources:  (If respondent refuses at any income level, code Refused.)\n",
            "\n",
            "=== Column: PREGNANT ===\n",
            "Label: Pregnancy Status\n",
            "Question: To your knowledge, are you now pregnant?\n",
            "\n",
            "=== Column: WEIGHT2 ===\n",
            "Label: Reported Weight in Pounds\n",
            "Question: About how much do you weigh without shoes?  (If respondent answers in metrics, put a 9 in the first column)[Round fractions up.]\n",
            "\n",
            "=== Column: HEIGHT3 ===\n",
            "Label: Reported Height in Feet and Inches\n",
            "Question: About how tall are you without shoes?  (If respondent answers in metrics, put a 9 in the first column)[Round fractions down.]\n",
            "\n",
            "=== Column: EDUCA ===\n",
            "Label: Education Level\n",
            "Question: What is the highest grade or year of school you completed?\n",
            "\n",
            "Value mappings:\n",
            "  1: Never attended school or only kindergarten\n",
            "  2: Grades 1 through 8 (Elementary)\n",
            "  3: Grades 9 through 11 (Some high school)\n",
            "  4: Grade 12 or GED (High school graduate)\n",
            "  5: College 1 year to 3 years (Some college or technical school)\n",
            "  6: College 4 years or more (College graduate)\n",
            "  9: Refused\n",
            "  None: Not asked or Missing\n",
            "\n",
            "EDUCA category counts:\n",
            "  Code 6.0: College 4 years or more (College graduate) (Count: 184,867)\n",
            "  Code 5.0: College 1 year to 3 years (Some college or technical school) (Count: 114,346)\n",
            "  Code 4.0: Grade 12 or GED (High school graduate) (Count: 106,613)\n",
            "  Code 3.0: Grades 9 through 11 (Some high school) (Count: 16,161)\n",
            "  Code 2.0: Grades 1 through 8 (Elementary) (Count: 8,324)\n",
            "  Code 9.0: Refused (Count: 2,316)\n",
            "  Code 1.0: Never attended school or only kindergarten (Count: 687)\n",
            "\n",
            "=== Column: EMPLOY1 ===\n",
            "Label: Employment Status\n",
            "Question: Are you currently?\n",
            "\n",
            "Value mappings:\n",
            "  1: Employed for wages\n",
            "  2: Self-employed\n",
            "  3: Out of work for 1 year or more\n",
            "  4: Out of work for less than 1 year\n",
            "  5: A homemaker\n",
            "  6: A student\n",
            "  7: Retired\n",
            "  8: Unable to work\n",
            "  9: Refused\n",
            "  None: Not asked or Missing\n",
            "\n",
            "EMPLOY1 category counts:\n",
            "  Code 1.0: Employed for wages (Count: 177,871)\n",
            "  Code 7.0: Retired (Count: 139,949)\n",
            "  Code 2.0: Self-employed (Count: 37,923)\n",
            "  Code 8.0: Unable to work (Count: 25,490)\n",
            "  Code 5.0: A homemaker (Count: 17,521)\n",
            "  Code 6.0: A student (Count: 10,244)\n",
            "  Code 4.0: Out of work for less than 1 year (Count: 8,976)\n",
            "  Code 3.0: Out of work for 1 year or more (Count: 7,668)\n",
            "  Code 9.0: Refused (Count: 4,713)\n",
            "\n",
            "=== Column: INCOME3 ===\n",
            "Label: Income Level\n",
            "Question: Is your annual household income from all sources:  (If respondent refuses at any income level, code Refused.)\n",
            "\n",
            "Value mappings:\n",
            "  1: Less than $10,000\n",
            "  2: Less than $15,000 ($10,000 to < $15,000)\n",
            "  3: Less than $20,000 ($15,000 to < $20,000)\n",
            "  4: Less than $25,000 ($20,000 to < $25,000)\n",
            "  5: Less than $35,000 ($25,000 to < $35,000)\n",
            "  6: Less than $50,000 ($35,000 to < $50,000)\n",
            "  7: Less than $75,000 ($50,000 to < $75,000)\n",
            "  8: Less than $100,000 ($75,000 to < $100,000)\n",
            "  9: Less than $150,000 ($100,000 to < $150,000)\n",
            "  10: Less than $200,000 ($150,000 to < $200,000)\n",
            "\n",
            "INCOME3 category counts:\n",
            "  Code 7.0: Less than $75,000 ($50,000 to < $75,000) (Count: 57,896)\n",
            "  Code 9.0: Less than $150,000 ($100,000 to < $150,000) (Count: 52,284)\n",
            "  Code 8.0: Less than $100,000 ($75,000 to < $100,000) (Count: 49,131)\n",
            "  Code 6.0: Less than $50,000 ($35,000 to < $50,000) (Count: 47,502)\n",
            "  Code 99.0: Refused (Count: 42,232)\n",
            "  Code 5.0: Less than $35,000 ($25,000 to < $35,000) (Count: 38,508)\n",
            "  Code 77.0: Don't know/Not sure (Count: 36,316)\n",
            "  Code 11.0: $200,000 or more (Count: 26,770)\n",
            "  Code 10.0: Less than $200,000 ($150,000 to < $200,000) (Count: 24,353)\n",
            "  Code 4.0: Less than $25,000 ($20,000 to < $25,000) (Count: 18,202)\n"
          ]
        }
      ]
    },
    {
      "cell_type": "code",
      "source": [
        "import matplotlib.pyplot as plt\n",
        "import seaborn as sns\n",
        "\n",
        "# Demographics Bar Charts\n",
        "\n",
        "# Restrict to a specific list of demographic variables\n",
        "demographics_columns = ['MARITAL', 'EDUCA', 'EMPLOY1', 'INCOME3']\n",
        "\n",
        "for demographics_variable in demographics_columns:\n",
        "    metadata = bfrss_metadata[demographics_variable]\n",
        "    col_values = bfrss_raw_df[demographics_variable].dropna()\n",
        "\n",
        "    # Map code to label for top 10 value counts\n",
        "    value_counts = col_values.value_counts().head(10)\n",
        "    labels = [metadata.value_lookup.get(int(val), f\"Code {val}\") for val in value_counts.index]\n",
        "\n",
        "    plt.figure(figsize=(10, 5))\n",
        "    sns.barplot(x=value_counts.values, y=labels, orient='h', palette='viridis')\n",
        "    plt.title(f\"Top {len(labels)} Categories for {metadata.sas_variable_name}\\n{metadata.label}\")\n",
        "    plt.xlabel(\"Count\")\n",
        "    plt.ylabel(\"Category\")\n",
        "    plt.tight_layout()\n",
        "    plt.show()\n"
      ],
      "metadata": {
        "colab": {
          "base_uri": "https://localhost:8080/",
          "height": 1000
        },
        "id": "Zprud_XAyBch",
        "outputId": "22306ee2-521c-496e-a103-8a8f80540179"
      },
      "execution_count": null,
      "outputs": [
        {
          "output_type": "stream",
          "name": "stderr",
          "text": [
            "<ipython-input-23-38ea17656a63>:18: FutureWarning: \n",
            "\n",
            "Passing `palette` without assigning `hue` is deprecated and will be removed in v0.14.0. Assign the `y` variable to `hue` and set `legend=False` for the same effect.\n",
            "\n",
            "  sns.barplot(x=value_counts.values, y=labels, orient='h', palette='viridis')\n"
          ]
        },
        {
          "output_type": "display_data",
          "data": {
            "text/plain": [
              "<Figure size 1000x500 with 1 Axes>"
            ],
            "image/png": "[encoded data removed]"
          },
          "metadata": {}
        },
        {
          "output_type": "stream",
          "name": "stderr",
          "text": [
            "<ipython-input-23-38ea17656a63>:18: FutureWarning: \n",
            "\n",
            "Passing `palette` without assigning `hue` is deprecated and will be removed in v0.14.0. Assign the `y` variable to `hue` and set `legend=False` for the same effect.\n",
            "\n",
            "  sns.barplot(x=value_counts.values, y=labels, orient='h', palette='viridis')\n"
          ]
        },
        {
          "output_type": "display_data",
          "data": {
            "text/plain": [
              "<Figure size 1000x500 with 1 Axes>"
            ],
            "image/png": "[encoded data removed]"
          },
          "metadata": {}
        },
        {
          "output_type": "stream",
          "name": "stderr",
          "text": [
            "<ipython-input-23-38ea17656a63>:18: FutureWarning: \n",
            "\n",
            "Passing `palette` without assigning `hue` is deprecated and will be removed in v0.14.0. Assign the `y` variable to `hue` and set `legend=False` for the same effect.\n",
            "\n",
            "  sns.barplot(x=value_counts.values, y=labels, orient='h', palette='viridis')\n"
          ]
        },
        {
          "output_type": "display_data",
          "data": {
            "text/plain": [
              "<Figure size 1000x500 with 1 Axes>"
            ],
            "image/png": "[encoded data removed]"
          },
          "metadata": {}
        },
        {
          "output_type": "stream",
          "name": "stderr",
          "text": [
            "<ipython-input-23-38ea17656a63>:18: FutureWarning: \n",
            "\n",
            "Passing `palette` without assigning `hue` is deprecated and will be removed in v0.14.0. Assign the `y` variable to `hue` and set `legend=False` for the same effect.\n",
            "\n",
            "  sns.barplot(x=value_counts.values, y=labels, orient='h', palette='viridis')\n"
          ]
        },
        {
          "output_type": "display_data",
          "data": {
            "text/plain": [
              "<Figure size 1000x500 with 1 Axes>"
            ],
            "image/png": "[encoded data removed]"
          },
          "metadata": {}
        }
      ]
    },
    {
      "cell_type": "code",
      "source": [
        "import matplotlib.pyplot as plt\n",
        "import seaborn as sns\n",
        "import numpy as np\n",
        "from scipy.interpolate import make_interp_spline\n",
        "\n",
        "# INCOME3-specific visualization in logical income order\n",
        "metadata = bfrss_metadata['INCOME3']\n",
        "income_series = bfrss_raw_df['INCOME3'].dropna()\n",
        "\n",
        "# Define the intended logical income order manually\n",
        "ordered_codes = [1, 2, 3, 4, 5, 6, 7, 8, 9, 10, 11, 77, 99]\n",
        "ordered_labels = [metadata.value_lookup.get(code, f\"Code {code}\") for code in ordered_codes]\n",
        "counts = income_series.value_counts()\n",
        "\n",
        "# Extract counts for codes in the desired order (skip codes not in data)\n",
        "ordered_counts = [counts.get(code, 0) for code in ordered_codes]\n",
        "\n",
        "# Custom colors: grays for 77 and 99, color palette for others\n",
        "main_palette = sns.color_palette(\"mako\", len(ordered_codes) - 2)\n",
        "palette = main_palette + [(0.6, 0.6, 0.6), (0.3, 0.3, 0.3)]\n",
        "\n",
        "# Plot\n",
        "plt.figure(figsize=(10, 6))\n",
        "sns.barplot(x=ordered_counts, y=ordered_labels, orient='h', palette=palette)\n",
        "\n",
        "# Smooth line over the main income groups (exclude 77 and 99)\n",
        "x_vals = np.array(ordered_counts[:-2])\n",
        "y_vals = np.array(range(len(ordered_counts) - 2))\n",
        "\n",
        "# Fit a spline for smoothing\n",
        "if len(x_vals) > 3:\n",
        "    spline = make_interp_spline(y_vals, x_vals, k=2)\n",
        "    y_smooth = np.linspace(y_vals.min(), y_vals.max(), 200)\n",
        "    x_smooth = spline(y_smooth)\n",
        "    plt.plot(x_smooth, y_smooth, color='black', linewidth=2)\n",
        "\n",
        "plt.title(f\"Income Distribution ({metadata.sas_variable_name})\\n{metadata.label}\")\n",
        "plt.xlabel(\"Count\")\n",
        "plt.ylabel(\"Income Range\")\n",
        "plt.tight_layout()\n",
        "plt.show()\n"
      ],
      "metadata": {
        "colab": {
          "base_uri": "https://localhost:8080/",
          "height": 692
        },
        "id": "dmakmL8QyeTv",
        "outputId": "665ba9f8-5b38-459c-f873-987f97edec32"
      },
      "execution_count": null,
      "outputs": [
        {
          "output_type": "stream",
          "name": "stderr",
          "text": [
            "<ipython-input-14-8a73bc2cd09f>:24: FutureWarning: \n",
            "\n",
            "Passing `palette` without assigning `hue` is deprecated and will be removed in v0.14.0. Assign the `y` variable to `hue` and set `legend=False` for the same effect.\n",
            "\n",
            "  sns.barplot(x=ordered_counts, y=ordered_labels, orient='h', palette=palette)\n"
          ]
        },
        {
          "output_type": "display_data",
          "data": {
            "text/plain": [
              "<Figure size 1000x600 with 1 Axes>"
            ],
            "image/png": "[encoded data removed]"
          },
          "metadata": {}
        }
      ]
    },
    {
      "cell_type": "code",
      "source": [
        "import statsmodels.formula.api as smf\n",
        "\n",
        "# Demographic and health condition variables\n",
        "demographics = ['EDUCA', 'EMPLOY1', 'INCOME3', '_RACE']\n",
        "conditions = ['MICHD', 'ASTHMS1', '_DRDXAR2']\n",
        "\n",
        "# Loop through each condition and run a logistic regression on all demographics\n",
        "for cond in conditions:\n",
        "    if cond in bfrss_raw_df.columns:\n",
        "        # Build formula\n",
        "        predictors = ' + '.join([d for d in demographics if d in bfrss_raw_df.columns])\n",
        "        formula = f\"{cond} ~ {predictors}\"\n",
        "\n",
        "        # Subset and clean data\n",
        "        model_data = bfrss_raw_df[[cond] + demographics].dropna()\n",
        "        for col in demographics:\n",
        "            model_data[col] = model_data[col].astype('category')\n",
        "\n",
        "        # Fit logistic regression\n",
        "        try:\n",
        "            model = smf.logit(formula=formula, data=model_data).fit(disp=False)\n",
        "            print(f\"\\n=== Logistic Regression Results for {cond} ===\")\n",
        "            print(model.summary2().tables[1])\n",
        "        except Exception as e:\n",
        "            print(f\"Could not fit model for {cond}: {e}\")\n"
      ],
      "metadata": {
        "colab": {
          "base_uri": "https://localhost:8080/"
        },
        "id": "iVOtXyRyA3qq",
        "outputId": "3306a71c-4572-43ce-f688-389f479d318c"
      },
      "execution_count": null,
      "outputs": [
        {
          "output_type": "stream",
          "name": "stdout",
          "text": [
            "Could not fit model for _DRDXAR2: endog must be in the unit interval.\n"
          ]
        }
      ]
    }
  ]
}